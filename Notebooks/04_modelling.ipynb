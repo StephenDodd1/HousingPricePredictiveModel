{
 "cells": [
  {
   "cell_type": "markdown",
   "id": "5726c5b4",
   "metadata": {},
   "source": [
    "# House Prices Predictive Model"
   ]
  },
  {
   "cell_type": "markdown",
   "id": "44c4717e",
   "metadata": {},
   "source": [
    "# 4 - Modelling"
   ]
  },
  {
   "cell_type": "code",
   "execution_count": 20,
   "id": "a6d30166",
   "metadata": {},
   "outputs": [],
   "source": [
    "import pandas as pd\n",
    "import numpy as np\n",
    "from sklearn import svm\n",
    "from sklearn.metrics import r2_score"
   ]
  },
  {
   "cell_type": "code",
   "execution_count": 21,
   "id": "6082c2a3",
   "metadata": {},
   "outputs": [],
   "source": [
    "df = pd.read_csv('../data/house_refined_data_cleaned.csv')\n",
    "scaled_train_X = np.genfromtxt('../data/scaled_train_X.csv', delimiter=\",\")\n",
    "scaled_test_X = np.genfromtxt('../data/scaled_test_X.csv', delimiter=\",\")\n",
    "y_train = np.genfromtxt('../data/train_y.csv', delimiter=\",\")\n",
    "y_test = np.genfromtxt('../data/test_y.csv', delimiter=\",\")"
   ]
  },
  {
   "cell_type": "markdown",
   "id": "a020bbba",
   "metadata": {},
   "source": [
    "## SVM"
   ]
  },
  {
   "cell_type": "code",
   "execution_count": 22,
   "id": "57def592",
   "metadata": {},
   "outputs": [
    {
     "data": {
      "text/plain": [
       "SVC()"
      ]
     },
     "execution_count": 22,
     "metadata": {},
     "output_type": "execute_result"
    }
   ],
   "source": [
    "model = svm.SVC()\n",
    "model.fit(scaled_train_X, y_train)"
   ]
  },
  {
   "cell_type": "code",
   "execution_count": 23,
   "id": "5dc5a1d7",
   "metadata": {},
   "outputs": [],
   "source": [
    "y_test_pred = model.predict(scaled_test_X)\n",
    "y_train_pred = model.predict(scaled_train_X)"
   ]
  },
  {
   "cell_type": "code",
   "execution_count": 24,
   "id": "a738e592",
   "metadata": {},
   "outputs": [
    {
     "name": "stdout",
     "output_type": "stream",
     "text": [
      "Our training data scores as 0.6006294606232587\n"
     ]
    }
   ],
   "source": [
    "print('Our training data scores as',str(r2_score(y_train,y_train_pred)))"
   ]
  },
  {
   "cell_type": "code",
   "execution_count": 25,
   "id": "092de225",
   "metadata": {},
   "outputs": [
    {
     "name": "stdout",
     "output_type": "stream",
     "text": [
      "Our training data scores as 0.07161644913112608\n"
     ]
    }
   ],
   "source": [
    "print('Our training data scores as',str(r2_score(y_test,y_test_pred)))"
   ]
  },
  {
   "cell_type": "markdown",
   "id": "ef7617e4",
   "metadata": {},
   "source": [
    "#### The model is not great, so I will now put a restriction on max_iter."
   ]
  },
  {
   "cell_type": "code",
   "execution_count": 26,
   "id": "c1ce9487",
   "metadata": {},
   "outputs": [
    {
     "name": "stderr",
     "output_type": "stream",
     "text": [
      "/Users/skdod/opt/anaconda3/lib/python3.9/site-packages/sklearn/svm/_base.py:255: ConvergenceWarning: Solver terminated early (max_iter=3).  Consider pre-processing your data with StandardScaler or MinMaxScaler.\n",
      "  warnings.warn('Solver terminated early (max_iter=%i).'\n"
     ]
    },
    {
     "data": {
      "text/plain": [
       "SVC(max_iter=3)"
      ]
     },
     "execution_count": 26,
     "metadata": {},
     "output_type": "execute_result"
    }
   ],
   "source": [
    "model = svm.SVC(max_iter=3)\n",
    "model.fit(scaled_train_X, y_train)"
   ]
  },
  {
   "cell_type": "code",
   "execution_count": 27,
   "id": "0d9e53a1",
   "metadata": {},
   "outputs": [],
   "source": [
    "y_test_pred = model.predict(scaled_test_X)\n",
    "y_train_pred = model.predict(scaled_train_X)"
   ]
  },
  {
   "cell_type": "code",
   "execution_count": 28,
   "id": "3fbec200",
   "metadata": {
    "scrolled": true
   },
   "outputs": [
    {
     "data": {
      "text/plain": [
       "0.7012803139064598"
      ]
     },
     "execution_count": 28,
     "metadata": {},
     "output_type": "execute_result"
    }
   ],
   "source": [
    "r2_score(y_train,y_train_pred)"
   ]
  },
  {
   "cell_type": "code",
   "execution_count": 29,
   "id": "bd4ecb0b",
   "metadata": {
    "scrolled": true
   },
   "outputs": [
    {
     "data": {
      "text/plain": [
       "0.17023091294835757"
      ]
     },
     "execution_count": 29,
     "metadata": {},
     "output_type": "execute_result"
    }
   ],
   "source": [
    "r2_score(y_test,y_test_pred)"
   ]
  },
  {
   "cell_type": "code",
   "execution_count": 30,
   "id": "38b58433",
   "metadata": {},
   "outputs": [
    {
     "name": "stderr",
     "output_type": "stream",
     "text": [
      "/Users/skdod/opt/anaconda3/lib/python3.9/site-packages/sklearn/svm/_base.py:255: ConvergenceWarning: Solver terminated early (max_iter=10).  Consider pre-processing your data with StandardScaler or MinMaxScaler.\n",
      "  warnings.warn('Solver terminated early (max_iter=%i).'\n"
     ]
    },
    {
     "name": "stdout",
     "output_type": "stream",
     "text": [
      "0.9818092422054886\n",
      "0.15045960932829838\n"
     ]
    }
   ],
   "source": [
    "model = svm.SVC(kernel='linear', max_iter=10)\n",
    "model.fit(scaled_train_X, y_train)\n",
    "\n",
    "y_test_pred = model.predict(scaled_test_X)\n",
    "y_train_pred = model.predict(scaled_train_X)\n",
    "\n",
    "print(r2_score(y_train,y_train_pred))\n",
    "\n",
    "print(r2_score(y_test,y_test_pred))"
   ]
  },
  {
   "cell_type": "code",
   "execution_count": 32,
   "id": "5c24548f",
   "metadata": {},
   "outputs": [
    {
     "name": "stdout",
     "output_type": "stream",
     "text": [
      "3347.3848797250857\n",
      "88376.0\n",
      "35500.0\n",
      "100000.0\n",
      "4500.0\n",
      "12000.0\n",
      "40000.0\n",
      "140078.0\n",
      "15500.0\n",
      "10000.0\n",
      "28200.0\n",
      "12900.0\n",
      "1905.0\n",
      "25100.0\n",
      "55400.0\n",
      "29300.0\n",
      "6500.0\n",
      "78000.0\n",
      "35600.0\n",
      "41350.0\n",
      "40496.0\n",
      "24500.0\n",
      "8000.0\n",
      "54007.0\n",
      "11000.0\n",
      "75000.0\n",
      "8500.0\n",
      "500.0\n",
      "9000.0\n",
      "57500.0\n",
      "19500.0\n",
      "32600.0\n",
      "35000.0\n",
      "14000.0\n",
      "40000.0\n",
      "4926.0\n",
      "6000.0\n",
      "11500.0\n",
      "2500.0\n",
      "40477.0\n",
      "23000.0\n",
      "86000.0\n",
      "17000.0\n",
      "35151.0\n",
      "30000.0\n",
      "88000.0\n",
      "23600.0\n",
      "1175.0\n",
      "2200.0\n",
      "23000.0\n",
      "25100.0\n",
      "127500.0\n",
      "4000.0\n",
      "2900.0\n",
      "48000.0\n",
      "100100.0\n",
      "2500.0\n",
      "27500.0\n",
      "45400.0\n",
      "14000.0\n",
      "18000.0\n",
      "40900.0\n",
      "0.0\n",
      "14450.0\n",
      "20550.0\n",
      "14300.0\n",
      "6500.0\n",
      "22000.0\n",
      "21600.0\n",
      "15900.0\n",
      "10000.0\n",
      "10500.0\n",
      "3500.0\n",
      "34000.0\n",
      "73000.0\n",
      "32500.0\n",
      "44177.0\n",
      "1500.0\n",
      "53500.0\n",
      "80000.0\n",
      "16900.0\n",
      "4040.0\n",
      "14500.0\n",
      "5500.0\n",
      "20100.0\n",
      "71550.0\n",
      "5100.0\n",
      "48900.0\n",
      "165.0\n",
      "29000.0\n",
      "4000.0\n",
      "19000.0\n",
      "6500.0\n",
      "2500.0\n",
      "19500.0\n",
      "1500.0\n",
      "18000.0\n",
      "10000.0\n",
      "72000.0\n",
      "28500.0\n",
      "13900.0\n",
      "59859.0\n",
      "61000.0\n",
      "25250.0\n",
      "64750.0\n",
      "4600.0\n",
      "55000.0\n",
      "12000.0\n",
      "3500.0\n",
      "5100.0\n",
      "49000.0\n",
      "4350.0\n",
      "15500.0\n",
      "15000.0\n",
      "2600.0\n",
      "6900.0\n",
      "6500.0\n",
      "16611.0\n",
      "1000.0\n",
      "9500.0\n",
      "18000.0\n",
      "12050.0\n",
      "25900.0\n",
      "7000.0\n",
      "21900.0\n",
      "23000.0\n",
      "40500.0\n",
      "12437.0\n",
      "2750.0\n",
      "2900.0\n",
      "4500.0\n",
      "35300.0\n",
      "14100.0\n",
      "24095.0\n",
      "7400.0\n",
      "6050.0\n",
      "56250.0\n",
      "24500.0\n",
      "27000.0\n",
      "10900.0\n",
      "25100.0\n",
      "63500.0\n",
      "62000.0\n",
      "142100.0\n",
      "7000.0\n",
      "18959.0\n",
      "10400.0\n",
      "38000.0\n",
      "8500.0\n",
      "53900.0\n",
      "26000.0\n",
      "13500.0\n",
      "101294.0\n",
      "38859.0\n",
      "4100.0\n",
      "1500.0\n",
      "24970.0\n",
      "10529.0\n",
      "29500.0\n",
      "62500.0\n",
      "4600.0\n",
      "23500.0\n",
      "18000.0\n",
      "13000.0\n",
      "24575.0\n",
      "191000.0\n",
      "60000.0\n",
      "10500.0\n",
      "25000.0\n",
      "4500.0\n",
      "6000.0\n",
      "1100.0\n",
      "91280.0\n",
      "6500.0\n",
      "1000.0\n",
      "47000.0\n",
      "20950.0\n",
      "8000.0\n",
      "74850.0\n",
      "7100.0\n",
      "4000.0\n",
      "96600.0\n",
      "12000.0\n",
      "14000.0\n",
      "56000.0\n",
      "19500.0\n",
      "21500.0\n",
      "6000.0\n",
      "500.0\n",
      "20201.0\n",
      "12900.0\n",
      "14000.0\n",
      "12000.0\n",
      "6000.0\n",
      "15000.0\n",
      "40500.0\n",
      "4300.0\n",
      "6000.0\n",
      "13000.0\n",
      "3100.0\n",
      "16500.0\n",
      "20000.0\n",
      "24500.0\n",
      "2100.0\n",
      "4950.0\n",
      "566.0\n",
      "45700.0\n",
      "21000.0\n",
      "41000.0\n",
      "70000.0\n",
      "31000.0\n",
      "1000.0\n",
      "14500.0\n",
      "2900.0\n",
      "6300.0\n",
      "91000.0\n",
      "35900.0\n",
      "93000.0\n",
      "65000.0\n",
      "17100.0\n",
      "5500.0\n",
      "29500.0\n",
      "57000.0\n",
      "12100.0\n",
      "88500.0\n",
      "22490.0\n",
      "41300.0\n",
      "9500.0\n",
      "52000.0\n",
      "1000.0\n",
      "13000.0\n",
      "2500.0\n",
      "17550.0\n",
      "27000.0\n",
      "18000.0\n",
      "10000.0\n",
      "9000.0\n",
      "5000.0\n",
      "8000.0\n",
      "18000.0\n",
      "17550.0\n",
      "0.0\n",
      "11140.0\n",
      "44500.0\n",
      "13500.0\n",
      "19000.0\n",
      "10000.0\n",
      "7500.0\n",
      "4100.0\n",
      "5100.0\n",
      "8141.0\n",
      "34900.0\n",
      "14000.0\n",
      "14900.0\n",
      "76861.0\n",
      "33044.0\n",
      "16696.0\n",
      "30500.0\n",
      "1900.0\n",
      "176081.0\n",
      "845000.0\n",
      "1500.0\n",
      "13000.0\n",
      "52500.0\n",
      "16250.0\n",
      "1462500.0\n",
      "108378.0\n",
      "170100.0\n",
      "31500.0\n",
      "60050.0\n",
      "51650.0\n",
      "15000.0\n",
      "25500.0\n",
      "62000.0\n",
      "26500.0\n",
      "191000.0\n",
      "6500.0\n",
      "19500.0\n",
      "42500.0\n",
      "24500.0\n",
      "56900.0\n",
      "4900.0\n",
      "59000.0\n",
      "82000.0\n",
      "42500.0\n",
      "13979.0\n",
      "10600.0\n",
      "1500.0\n",
      "78500.0\n",
      "56657.0\n",
      "120000.0\n",
      "43200.0\n",
      "63000.0\n"
     ]
    },
    {
     "data": {
      "text/plain": [
       "0.15045742622890135"
      ]
     },
     "execution_count": 32,
     "metadata": {},
     "output_type": "execute_result"
    }
   ],
   "source": [
    "diff = np.array(y_test_pred - np.array(y_test))\n",
    "print(np.mean(np.delete(diff, 259)))\n",
    "y_test=np.array(y_test)\n",
    "for idx, val in enumerate(y_test_pred):\n",
    "    print(np.abs(diff[idx]))\n",
    "    if diff[idx] != 0:\n",
    "        y_test_pred[idx] = y_test_pred[idx] + np.log(np.abs(diff[idx]))\n",
    "r2_score(y_test,y_test_pred)"
   ]
  },
  {
   "cell_type": "markdown",
   "id": "a89ea31f",
   "metadata": {},
   "source": [
    "#### Here I recognized that a few of my outliers are skewing my data heavily, and I believe that the primary problem is the neighborhood column. So I am redoing my model after removing that column."
   ]
  },
  {
   "cell_type": "code",
   "execution_count": null,
   "id": "683fcb80",
   "metadata": {},
   "outputs": [],
   "source": []
  }
 ],
 "metadata": {
  "kernelspec": {
   "display_name": "Python 3 (ipykernel)",
   "language": "python",
   "name": "python3"
  },
  "language_info": {
   "codemirror_mode": {
    "name": "ipython",
    "version": 3
   },
   "file_extension": ".py",
   "mimetype": "text/x-python",
   "name": "python",
   "nbconvert_exporter": "python",
   "pygments_lexer": "ipython3",
   "version": "3.9.7"
  }
 },
 "nbformat": 4,
 "nbformat_minor": 5
}
