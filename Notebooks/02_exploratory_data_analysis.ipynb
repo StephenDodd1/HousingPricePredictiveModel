{
 "cells": [
  {
   "cell_type": "code",
   "execution_count": 1,
   "id": "a992caf6",
   "metadata": {},
   "outputs": [],
   "source": [
    "import pandas as pd\n",
    "import numpy as np\n",
    "import statsmodels.api as sm\n",
    "import scipy \n",
    "import matplotlib.pyplot as plt\n",
    "import pandas as pd\n",
    "import seaborn as sns\n",
    "from mpl_toolkits.mplot3d import Axes3D\n",
    "from sklearn.decomposition import PCA\n",
    "from sklearn.preprocessing import scale\n",
    "\n",
    "from library.sb_utils import save_file"
   ]
  },
  {
   "cell_type": "markdown",
   "id": "2cb64a49",
   "metadata": {},
   "source": [
    "### Read df from cleaned csv"
   ]
  },
  {
   "cell_type": "code",
   "execution_count": 2,
   "id": "10795479",
   "metadata": {},
   "outputs": [],
   "source": [
    "df = pd.read_csv('../data/house_data_cleaned.csv')"
   ]
  },
  {
   "cell_type": "code",
   "execution_count": 3,
   "id": "f7e6404c",
   "metadata": {
    "scrolled": true
   },
   "outputs": [
    {
     "data": {
      "text/html": [
       "<div>\n",
       "<style scoped>\n",
       "    .dataframe tbody tr th:only-of-type {\n",
       "        vertical-align: middle;\n",
       "    }\n",
       "\n",
       "    .dataframe tbody tr th {\n",
       "        vertical-align: top;\n",
       "    }\n",
       "\n",
       "    .dataframe thead th {\n",
       "        text-align: right;\n",
       "    }\n",
       "</style>\n",
       "<table border=\"1\" class=\"dataframe\">\n",
       "  <thead>\n",
       "    <tr style=\"text-align: right;\">\n",
       "      <th></th>\n",
       "      <th>Id</th>\n",
       "      <th>MSSubClass</th>\n",
       "      <th>MSZoning</th>\n",
       "      <th>Street</th>\n",
       "      <th>Alley</th>\n",
       "      <th>Neighborhood</th>\n",
       "      <th>Condition1</th>\n",
       "      <th>Condition2</th>\n",
       "      <th>HouseStyle</th>\n",
       "      <th>OverallQual</th>\n",
       "      <th>...</th>\n",
       "      <th>TotalBsmtSF</th>\n",
       "      <th>Heating</th>\n",
       "      <th>GrLivArea</th>\n",
       "      <th>KitchenQual</th>\n",
       "      <th>GarageType</th>\n",
       "      <th>GarageFinish</th>\n",
       "      <th>GarageCars</th>\n",
       "      <th>SalePrice</th>\n",
       "      <th>TotalSF</th>\n",
       "      <th>HasPool</th>\n",
       "    </tr>\n",
       "  </thead>\n",
       "  <tbody>\n",
       "    <tr>\n",
       "      <th>0</th>\n",
       "      <td>1</td>\n",
       "      <td>60</td>\n",
       "      <td>RL</td>\n",
       "      <td>Pave</td>\n",
       "      <td>None</td>\n",
       "      <td>CollgCr</td>\n",
       "      <td>Norm</td>\n",
       "      <td>Norm</td>\n",
       "      <td>2Story</td>\n",
       "      <td>7</td>\n",
       "      <td>...</td>\n",
       "      <td>856</td>\n",
       "      <td>GasA</td>\n",
       "      <td>1710</td>\n",
       "      <td>Gd</td>\n",
       "      <td>Attchd</td>\n",
       "      <td>RFn</td>\n",
       "      <td>2</td>\n",
       "      <td>208500</td>\n",
       "      <td>2566</td>\n",
       "      <td>False</td>\n",
       "    </tr>\n",
       "    <tr>\n",
       "      <th>1</th>\n",
       "      <td>2</td>\n",
       "      <td>20</td>\n",
       "      <td>RL</td>\n",
       "      <td>Pave</td>\n",
       "      <td>None</td>\n",
       "      <td>Veenker</td>\n",
       "      <td>Feedr</td>\n",
       "      <td>Norm</td>\n",
       "      <td>1Story</td>\n",
       "      <td>6</td>\n",
       "      <td>...</td>\n",
       "      <td>1262</td>\n",
       "      <td>GasA</td>\n",
       "      <td>1262</td>\n",
       "      <td>TA</td>\n",
       "      <td>Attchd</td>\n",
       "      <td>RFn</td>\n",
       "      <td>2</td>\n",
       "      <td>181500</td>\n",
       "      <td>2524</td>\n",
       "      <td>False</td>\n",
       "    </tr>\n",
       "    <tr>\n",
       "      <th>2</th>\n",
       "      <td>3</td>\n",
       "      <td>60</td>\n",
       "      <td>RL</td>\n",
       "      <td>Pave</td>\n",
       "      <td>None</td>\n",
       "      <td>CollgCr</td>\n",
       "      <td>Norm</td>\n",
       "      <td>Norm</td>\n",
       "      <td>2Story</td>\n",
       "      <td>7</td>\n",
       "      <td>...</td>\n",
       "      <td>920</td>\n",
       "      <td>GasA</td>\n",
       "      <td>1786</td>\n",
       "      <td>Gd</td>\n",
       "      <td>Attchd</td>\n",
       "      <td>RFn</td>\n",
       "      <td>2</td>\n",
       "      <td>223500</td>\n",
       "      <td>2706</td>\n",
       "      <td>False</td>\n",
       "    </tr>\n",
       "    <tr>\n",
       "      <th>3</th>\n",
       "      <td>4</td>\n",
       "      <td>70</td>\n",
       "      <td>RL</td>\n",
       "      <td>Pave</td>\n",
       "      <td>None</td>\n",
       "      <td>Crawfor</td>\n",
       "      <td>Norm</td>\n",
       "      <td>Norm</td>\n",
       "      <td>2Story</td>\n",
       "      <td>7</td>\n",
       "      <td>...</td>\n",
       "      <td>756</td>\n",
       "      <td>GasA</td>\n",
       "      <td>1717</td>\n",
       "      <td>Gd</td>\n",
       "      <td>Detchd</td>\n",
       "      <td>Unf</td>\n",
       "      <td>3</td>\n",
       "      <td>140000</td>\n",
       "      <td>2473</td>\n",
       "      <td>False</td>\n",
       "    </tr>\n",
       "    <tr>\n",
       "      <th>4</th>\n",
       "      <td>5</td>\n",
       "      <td>60</td>\n",
       "      <td>RL</td>\n",
       "      <td>Pave</td>\n",
       "      <td>None</td>\n",
       "      <td>NoRidge</td>\n",
       "      <td>Norm</td>\n",
       "      <td>Norm</td>\n",
       "      <td>2Story</td>\n",
       "      <td>8</td>\n",
       "      <td>...</td>\n",
       "      <td>1145</td>\n",
       "      <td>GasA</td>\n",
       "      <td>2198</td>\n",
       "      <td>Gd</td>\n",
       "      <td>Attchd</td>\n",
       "      <td>RFn</td>\n",
       "      <td>3</td>\n",
       "      <td>250000</td>\n",
       "      <td>3343</td>\n",
       "      <td>False</td>\n",
       "    </tr>\n",
       "  </tbody>\n",
       "</table>\n",
       "<p>5 rows × 24 columns</p>\n",
       "</div>"
      ],
      "text/plain": [
       "   Id  MSSubClass MSZoning Street Alley Neighborhood Condition1 Condition2  \\\n",
       "0   1          60       RL   Pave  None      CollgCr       Norm       Norm   \n",
       "1   2          20       RL   Pave  None      Veenker      Feedr       Norm   \n",
       "2   3          60       RL   Pave  None      CollgCr       Norm       Norm   \n",
       "3   4          70       RL   Pave  None      Crawfor       Norm       Norm   \n",
       "4   5          60       RL   Pave  None      NoRidge       Norm       Norm   \n",
       "\n",
       "  HouseStyle  OverallQual  ... TotalBsmtSF  Heating GrLivArea KitchenQual  \\\n",
       "0     2Story            7  ...         856     GasA      1710          Gd   \n",
       "1     1Story            6  ...        1262     GasA      1262          TA   \n",
       "2     2Story            7  ...         920     GasA      1786          Gd   \n",
       "3     2Story            7  ...         756     GasA      1717          Gd   \n",
       "4     2Story            8  ...        1145     GasA      2198          Gd   \n",
       "\n",
       "   GarageType GarageFinish  GarageCars SalePrice TotalSF HasPool  \n",
       "0      Attchd          RFn           2    208500    2566   False  \n",
       "1      Attchd          RFn           2    181500    2524   False  \n",
       "2      Attchd          RFn           2    223500    2706   False  \n",
       "3      Detchd          Unf           3    140000    2473   False  \n",
       "4      Attchd          RFn           3    250000    3343   False  \n",
       "\n",
       "[5 rows x 24 columns]"
      ]
     },
     "execution_count": 3,
     "metadata": {},
     "output_type": "execute_result"
    }
   ],
   "source": [
    "df.head()"
   ]
  },
  {
   "cell_type": "markdown",
   "id": "5a273d12",
   "metadata": {},
   "source": [
    "### Figure 1 - Correlation of SalePrice to TotalsSF"
   ]
  },
  {
   "cell_type": "code",
   "execution_count": 4,
   "id": "cd07f600",
   "metadata": {},
   "outputs": [
    {
     "name": "stderr",
     "output_type": "stream",
     "text": [
      "/Users/skdod/opt/anaconda3/lib/python3.9/site-packages/statsmodels/tsa/tsatools.py:142: FutureWarning: In a future version of pandas all arguments of concat except for the argument 'objs' will be keyword-only\n",
      "  x = pd.concat(x[::order], 1)\n"
     ]
    },
    {
     "name": "stdout",
     "output_type": "stream",
     "text": [
      "correlation : (0.7822600527979842, 5.511173086257728e-302)\n"
     ]
    },
    {
     "data": {
      "image/png": "[encoded data removed]",
      "text/plain": [
       "<Figure size 432x288 with 1 Axes>"
      ]
     },
     "metadata": {
      "needs_background": "light"
     },
     "output_type": "display_data"
    }
   ],
   "source": [
    "model = sm.OLS(df['SalePrice'], sm.add_constant(df['TotalSF']))\n",
    "p = model.fit().params\n",
    "# generate x-values for your regression line (two is sufficient)\n",
    "x = df['TotalSF']\n",
    "# scatter-plot data\n",
    "ax = df.plot(x='TotalSF', y='SalePrice', kind='scatter', alpha = 0.1, c='r')\n",
    "# plot regression line on the same axes, set x-axis limits\n",
    "ax.plot(x, p.const + p['TotalSF'] * x)\n",
    "print (\"correlation :\",scipy.stats.pearsonr(df['SalePrice'], df['TotalSF']))"
   ]
  },
  {
   "cell_type": "markdown",
   "id": "2a3fc7f2",
   "metadata": {},
   "source": [
    "### Figure 2.1 - Correlation of SalePrice to TotalsSF w/ pools"
   ]
  },
  {
   "cell_type": "code",
   "execution_count": 5,
   "id": "8fd6df78",
   "metadata": {},
   "outputs": [
    {
     "name": "stdout",
     "output_type": "stream",
     "text": [
      "correlation : (0.16802605710441615, 0.7187596908749201)\n"
     ]
    },
    {
     "name": "stderr",
     "output_type": "stream",
     "text": [
      "/Users/skdod/opt/anaconda3/lib/python3.9/site-packages/statsmodels/tsa/tsatools.py:142: FutureWarning: In a future version of pandas all arguments of concat except for the argument 'objs' will be keyword-only\n",
      "  x = pd.concat(x[::order], 1)\n"
     ]
    },
    {
     "data": {
      "image/png": "[encoded data removed]",
      "text/plain": [
       "<Figure size 432x288 with 1 Axes>"
      ]
     },
     "metadata": {
      "needs_background": "light"
     },
     "output_type": "display_data"
    }
   ],
   "source": [
    "pool_model = sm.OLS(df[df['HasPool'] == True]['SalePrice'], sm.add_constant(df[df['HasPool'] == True]['TotalSF']))\n",
    "pool_p = pool_model.fit().params\n",
    "# generate x-values for your regression line (two is sufficient)\n",
    "x = df[df['HasPool'] == True]['TotalSF']\n",
    "# scatter-plot data\n",
    "ax = df[df['HasPool'] == True].plot(x='TotalSF', y='SalePrice', kind='scatter', alpha = 0.1)\n",
    "# plot regression line on the same axes, set x-axis limits\n",
    "ax.plot(x, pool_p.const + pool_p['TotalSF'] * x)\n",
    "print (\"correlation :\",scipy.stats.pearsonr(df[df['HasPool'] == True]['SalePrice'], df[df['HasPool'] == True]['TotalSF']))"
   ]
  },
  {
   "cell_type": "markdown",
   "id": "b3575d71",
   "metadata": {},
   "source": [
    "### Figure 2.2 - Correlation of SalePrice to TotalsSF w/o pools"
   ]
  },
  {
   "cell_type": "code",
   "execution_count": 6,
   "id": "452aa059",
   "metadata": {},
   "outputs": [
    {
     "name": "stderr",
     "output_type": "stream",
     "text": [
      "/Users/skdod/opt/anaconda3/lib/python3.9/site-packages/statsmodels/tsa/tsatools.py:142: FutureWarning: In a future version of pandas all arguments of concat except for the argument 'objs' will be keyword-only\n",
      "  x = pd.concat(x[::order], 1)\n"
     ]
    },
    {
     "name": "stdout",
     "output_type": "stream",
     "text": [
      "correlation : (0.8166448166913953, 0.0)\n"
     ]
    },
    {
     "data": {
      "image/png": "[encoded data removed]",
      "text/plain": [
       "<Figure size 432x288 with 1 Axes>"
      ]
     },
     "metadata": {
      "needs_background": "light"
     },
     "output_type": "display_data"
    }
   ],
   "source": [
    "no_pool_model = sm.OLS(df[df['HasPool'] == False]['SalePrice'], sm.add_constant(df[df['HasPool'] == False]['TotalSF']))\n",
    "no_pool_p = no_pool_model.fit().params\n",
    "# generate x-values for your regression line (two is sufficient)\n",
    "x = df[df['HasPool'] == False]['TotalSF']\n",
    "# scatter-plot data\n",
    "ax = df[df['HasPool'] == False].plot(x='TotalSF', y='SalePrice', kind='scatter', alpha = 0.1, c='r')\n",
    "# plot regression line on the same axes, set x-axis limits\n",
    "ax.plot(x, no_pool_p.const + no_pool_p['TotalSF'] * x)\n",
    "print (\"correlation :\",scipy.stats.pearsonr(df[df['HasPool'] == False]['SalePrice'], df[df['HasPool'] == False]['TotalSF']))"
   ]
  },
  {
   "cell_type": "markdown",
   "id": "e2239800",
   "metadata": {},
   "source": [
    "### Figure 2.3 - Correlation of SalePrice to TotalsSF w/ pools after correcting outlier at index 1298"
   ]
  },
  {
   "cell_type": "code",
   "execution_count": 7,
   "id": "afc1296c",
   "metadata": {},
   "outputs": [
    {
     "name": "stdout",
     "output_type": "stream",
     "text": [
      "Before update : \u001b[1;48;34m160000\n",
      "\u001b[mAfter update : \u001b[1;48;34m1600000\n"
     ]
    },
    {
     "name": "stderr",
     "output_type": "stream",
     "text": [
      "/Users/skdod/opt/anaconda3/lib/python3.9/site-packages/statsmodels/tsa/tsatools.py:142: FutureWarning: In a future version of pandas all arguments of concat except for the argument 'objs' will be keyword-only\n",
      "  x = pd.concat(x[::order], 1)\n"
     ]
    },
    {
     "data": {
      "image/png": "[encoded data removed]",
      "text/plain": [
       "<Figure size 432x288 with 1 Axes>"
      ]
     },
     "metadata": {
      "needs_background": "light"
     },
     "output_type": "display_data"
    },
    {
     "name": "stdout",
     "output_type": "stream",
     "text": [
      "\u001b[mcorrelation w/ pools :\u001b[1;48;34m (0.9809888892055241, 9.474037124304883e-05)\n"
     ]
    }
   ],
   "source": [
    "# One thing that stands out is how greatly the outliers affect the dataset that has a pool. So I will \n",
    "# re-run the regression, excluding those data points.\n",
    "print('Before update : \\033[1;48;34m' + str(df.iloc[1298]['SalePrice'])) \n",
    "# I have come to the conclusion that this outlier must be missing a zero on price. I say this because the\n",
    "# indicators I have found to have strong correlations with price, for instance Area is very high, and the \n",
    "# Quality measures such as kitchen quality and Overall Style, are maximum values. The only value that\n",
    "# doesn't fit the data is the sale price. So I will update it to $1.6 million.\n",
    "df.at[1298,'SalePrice'] = 1600000\n",
    "print('\\033[mAfter update : \\033[1;48;34m' + str(df.iloc[1298]['SalePrice']))\n",
    "# Now to run it again.\n",
    "pool_model = sm.OLS(df[df['HasPool'] == True]['SalePrice'], \n",
    "    sm.add_constant(df[df['HasPool'] == True]['TotalSF']))\n",
    "pool_p = pool_model.fit().params\n",
    "# generate x-values for your regression line (two is sufficient)\n",
    "x = df[df['HasPool'] == True]['TotalSF']\n",
    "# scatter-plot data\n",
    "ax = df[df['HasPool'] == True].plot(x='TotalSF', y='SalePrice', kind='scatter', alpha = 0.5)\n",
    "# plot regression line on the same axes, set x-axis limits\n",
    "line1, = ax.plot(x, no_pool_p.const + no_pool_p['TotalSF'] * x, c='purple')\n",
    "line2, = ax.plot(x, pool_p.const + pool_p['TotalSF'] * x)\n",
    "ax.legend([line1, line2],['No pool','Pool'])\n",
    "plt.show()\n",
    "print (\"\\033[mcorrelation w/ pools :\\033[1;48;34m\",scipy.stats.pearsonr(df[df['HasPool'] == True]['SalePrice'], \\\n",
    "    df[df['HasPool'] == True]['TotalSF']))"
   ]
  },
  {
   "cell_type": "markdown",
   "id": "70c9eaa9",
   "metadata": {},
   "source": [
    "### Figure 2.4 - Correlation of SalePrice to TotalsSF w/o pools after correcting outlier at index 1298"
   ]
  },
  {
   "cell_type": "code",
   "execution_count": 8,
   "id": "4cccd4f6",
   "metadata": {
    "scrolled": true
   },
   "outputs": [
    {
     "name": "stderr",
     "output_type": "stream",
     "text": [
      "/Users/skdod/opt/anaconda3/lib/python3.9/site-packages/statsmodels/tsa/tsatools.py:142: FutureWarning: In a future version of pandas all arguments of concat except for the argument 'objs' will be keyword-only\n",
      "  x = pd.concat(x[::order], 1)\n"
     ]
    },
    {
     "data": {
      "image/png": "[encoded data removed]",
      "text/plain": [
       "<Figure size 432x288 with 1 Axes>"
      ]
     },
     "metadata": {
      "needs_background": "light"
     },
     "output_type": "display_data"
    },
    {
     "name": "stdout",
     "output_type": "stream",
     "text": [
      "correlation with pool: (0.9809888892055241, 9.474037124304883e-05)\n",
      "correlation without pool: (0.8166448166913953, 0.0)\n"
     ]
    }
   ],
   "source": [
    "no_pool_model = sm.OLS(df[df['HasPool'] == False]['SalePrice'], sm.add_constant(df[df['HasPool'] == False]['TotalSF']))\n",
    "no_pool_p = no_pool_model.fit().params\n",
    "x = df[df['HasPool'] == False]['TotalSF']\n",
    "ax = df[df['HasPool'] == False].plot(x='TotalSF', y='SalePrice', kind='scatter', alpha = 0.1)\n",
    "line1, = ax.plot(x, no_pool_p.const + no_pool_p['TotalSF'] * x, c='orange')\n",
    "line2, = ax.plot(x, pool_p.const + pool_p['TotalSF'] * x, c='r')\n",
    "ax.legend([line1, line2],['No pool','Pool'])\n",
    "plt.show()\n",
    "print (\"correlation with pool:\",scipy.stats.pearsonr(df[df['HasPool'] == True]['SalePrice'], df[df['HasPool'] == True]['TotalSF']))\n",
    "print (\"correlation without pool:\",scipy.stats.pearsonr(df[df['HasPool'] == False]['SalePrice'], df[df['HasPool'] == False]['TotalSF']))"
   ]
  },
  {
   "cell_type": "markdown",
   "id": "c381dd5e",
   "metadata": {},
   "source": [
    "### Explore neighborhood statistics, particularly how Edwards neighborhoods compares to the others.\n",
    "###### Note that the correlation for homes with pools more closely matches after increasing the sale price of our outlier by a factor of 10."
   ]
  },
  {
   "cell_type": "code",
   "execution_count": 9,
   "id": "c6c64e40",
   "metadata": {},
   "outputs": [
    {
     "name": "stdout",
     "output_type": "stream",
     "text": [
      "Mean\n",
      "\n",
      "1. NoRidge - $ 335,295\n",
      "2. NridgHt - $ 316,271\n",
      "3. StoneBr - $ 310,499\n",
      "4. Timber - $ 242,247\n",
      "5. Veenker - $ 238,773\n",
      "6. Somerst - $ 225,380\n",
      "7. ClearCr - $ 212,565\n",
      "8. Crawfor - $ 210,625\n",
      "9. CollgCr - $ 197,966\n",
      "10. Blmngtn - $ 194,871\n",
      "11. Gilbert - $ 192,855\n",
      "12. NWAmes - $ 189,050\n",
      "13. SawyerW - $ 186,556\n",
      "14. Mitchel - $ 156,270\n",
      "15. NAmes - $ 145,847\n",
      "16. NPkVill - $ 142,694\n",
      "17. \u001b[1;48;34mEdwards - $ 142,620\u001b[m\n",
      "18. SWISU - $ 142,591\n",
      "19. Blueste - $ 137,500\n",
      "20. Sawyer - $ 136,793\n",
      "21. OldTown - $ 128,225\n",
      "22. BrkSide - $ 124,834\n",
      "23. BrDale - $ 104,494\n",
      "24. IDOTRR - $ 100,124\n",
      "25. MeadowV - $ 98,576\n",
      "\n",
      "Median\n",
      "\n",
      "1. NridgHt - $ 315,000\n",
      "2. NoRidge - $ 301,500\n",
      "3. StoneBr - $ 278,000\n",
      "4. Timber - $ 228,475\n",
      "5. Somerst - $ 225,500\n",
      "6. Veenker - $ 218,000\n",
      "7. Crawfor - $ 200,624\n",
      "8. ClearCr - $ 200,250\n",
      "9. CollgCr - $ 197,200\n",
      "10. Blmngtn - $ 191,000\n",
      "11. NWAmes - $ 182,900\n",
      "12. Gilbert - $ 181,000\n",
      "13. SawyerW - $ 179,900\n",
      "14. Mitchel - $ 153,500\n",
      "15. NPkVill - $ 146,000\n",
      "16. NAmes - $ 140,000\n",
      "17. SWISU - $ 139,500\n",
      "18. Blueste - $ 137,500\n",
      "19. Sawyer - $ 135,000\n",
      "20. BrkSide - $ 124,300\n",
      "21. \u001b[1;48;34mEdwards - $ 121,750\u001b[m\n",
      "22. OldTown - $ 119,000\n",
      "23. BrDale - $ 106,000\n",
      "24. IDOTRR - $ 103,000\n",
      "25. MeadowV - $ 88,000\n",
      "\n",
      "Minimum\n",
      "\n",
      "1. NoRidge - $ 190,000\n",
      "2. StoneBr - $ 170,000\n",
      "3. Veenker - $ 162,500\n",
      "4. Blmngtn - $ 159,895\n",
      "5. NridgHt - $ 154,000\n",
      "6. Somerst - $ 144,152\n",
      "7. Gilbert - $ 141,000\n",
      "8. Timber - $ 137,500\n",
      "9. ClearCr - $ 130,000\n",
      "10. NPkVill - $ 127,500\n",
      "11. Blueste - $ 124,000\n",
      "12. CollgCr - $ 110,000\n",
      "13. Crawfor - $ 90,350\n",
      "14. NAmes - $ 87,500\n",
      "15. Mitchel - $ 84,500\n",
      "16. BrDale - $ 83,000\n",
      "17. NWAmes - $ 82,500\n",
      "18. SawyerW - $ 76,000\n",
      "19. MeadowV - $ 75,000\n",
      "20. Sawyer - $ 62,383\n",
      "21. SWISU - $ 60,000\n",
      "22. \u001b[1;48;34mEdwards - $ 58,500\u001b[m\n",
      "23. BrkSide - $ 39,300\n",
      "24. OldTown - $ 37,900\n",
      "25. IDOTRR - $ 34,900\n",
      "\n",
      "Maximum\n",
      "\n",
      "1. \u001b[1;48;34mEdwards - $ 1,600,000\u001b[m\n",
      "2. NoRidge - $ 755,000\n",
      "3. NridgHt - $ 611,657\n",
      "4. StoneBr - $ 556,581\n",
      "5. OldTown - $ 475,000\n",
      "6. CollgCr - $ 424,870\n",
      "7. Somerst - $ 423,000\n",
      "8. Crawfor - $ 392,500\n",
      "9. Veenker - $ 385,000\n",
      "10. Timber - $ 378,500\n",
      "11. Gilbert - $ 377,500\n",
      "12. NAmes - $ 345,000\n",
      "13. ClearCr - $ 328,000\n",
      "14. SawyerW - $ 320,000\n",
      "15. NWAmes - $ 299,800\n",
      "16. Mitchel - $ 271,000\n",
      "17. Blmngtn - $ 264,561\n",
      "18. BrkSide - $ 223,500\n",
      "19. SWISU - $ 200,000\n",
      "20. Sawyer - $ 190,000\n",
      "21. IDOTRR - $ 169,500\n",
      "22. NPkVill - $ 155,000\n",
      "23. MeadowV - $ 151,400\n",
      "24. Blueste - $ 151,000\n",
      "25. BrDale - $ 125,000\n"
     ]
    }
   ],
   "source": [
    "nb_mean_dict = {}\n",
    "print('Mean\\n')\n",
    "for nb in df['Neighborhood']:    \n",
    "    nb_mean_dict[nb]= df[df['Neighborhood'] == nb]['SalePrice'].mean()\n",
    "for idx, x in enumerate(sorted(nb_mean_dict.items(), key=lambda item: -item[1])):\n",
    "    print(str(idx + 1) + '. ' + str(x[0]) +' - $ ' + '{:,.0f}'.format(x[1]) if \\\n",
    "          x[0] != 'Edwards' else str(idx + 1) + '. ' + '\\033[1;48;34m' + str(x[0]) + \\\n",
    "          ' - $ ' + '{:,.0f}'.format(x[1]) + '\\033[m')\n",
    "print('\\nMedian\\n')\n",
    "nb_median_dict = {}\n",
    "for nb in df['Neighborhood']:    \n",
    "    nb_median_dict[nb]= df[df['Neighborhood'] == nb]['SalePrice'].median()\n",
    "\n",
    "for idx, x in enumerate(sorted(nb_median_dict.items(), key=lambda item: -item[1])):\n",
    "    print(str(idx + 1) + '. ' + str(x[0]) +' - $ ' + '{:,.0f}'.format(x[1]) if \\\n",
    "          x[0] != 'Edwards' else str(idx + 1) + '. ' + '\\033[1;48;34m' + str(x[0]) + \\\n",
    "          ' - $ ' + '{:,.0f}'.format(x[1]) + '\\033[m')\n",
    "print('\\nMinimum\\n')\n",
    "nb_min_dict = {}\n",
    "for nb in df['Neighborhood']:    \n",
    "    nb_min_dict[nb]= df[df['Neighborhood'] == nb]['SalePrice'].min()\n",
    "for idx, x in enumerate(sorted(nb_min_dict.items(), key=lambda item: -item[1])):\n",
    "    print(str(idx + 1) + '. ' + str(x[0]) +' - $ ' + '{:,.0f}'.format(x[1]) if \\\n",
    "          x[0] != 'Edwards' else str(idx + 1) + '. ' + '\\033[1;48;34m' + str(x[0]) + \\\n",
    "          ' - $ ' + '{:,.0f}'.format(x[1]) + '\\033[m')\n",
    "print('\\nMaximum\\n')\n",
    "nb_max_dict = {}\n",
    "for nb in df['Neighborhood']:    \n",
    "    nb_max_dict[nb]= df[df['Neighborhood'] == nb]['SalePrice'].max()\n",
    "\n",
    "for idx, x in enumerate(sorted(nb_max_dict.items(), key=lambda item: -item[1])):\n",
    "    print(str(idx + 1) + '. ' + str(x[0]) +' - $ ' + '{:,.0f}'.format(x[1]) if \\\n",
    "          x[0] != 'Edwards' else str(idx + 1) + '. ' + '\\033[1;48;34m' + str(x[0]) + \\\n",
    "          ' - $ ' + '{:,.0f}'.format(x[1]) + '\\033[m')"
   ]
  },
  {
   "cell_type": "code",
   "execution_count": 10,
   "id": "4c67c601",
   "metadata": {},
   "outputs": [
    {
     "name": "stdout",
     "output_type": "stream",
     "text": [
      "        Id  MSSubClass MSZoning Street Alley Neighborhood Condition1  \\\n",
      "523    524          60       RL   Pave  None      Edwards       PosN   \n",
      "1298  1299          60       RL   Pave  None      Edwards      Feedr   \n",
      "\n",
      "     Condition2 HouseStyle  OverallQual  ... TotalBsmtSF  Heating GrLivArea  \\\n",
      "523        PosN     2Story           10  ...        3138     GasA      4676   \n",
      "1298       Norm     2Story           10  ...        6110     GasA      5642   \n",
      "\n",
      "     KitchenQual  GarageType GarageFinish  GarageCars SalePrice TotalSF  \\\n",
      "523           Ex     BuiltIn          Fin           3    184750    7814   \n",
      "1298          Ex      Attchd          Fin           2   1600000   11752   \n",
      "\n",
      "     HasPool  \n",
      "523    False  \n",
      "1298    True  \n",
      "\n",
      "[2 rows x 24 columns]\n",
      "Id                  524\n",
      "MSSubClass           60\n",
      "MSZoning             RL\n",
      "Street             Pave\n",
      "Alley              None\n",
      "Neighborhood    Edwards\n",
      "Condition1         PosN\n",
      "Condition2         PosN\n",
      "HouseStyle       2Story\n",
      "OverallQual          10\n",
      "MasVnrType        Stone\n",
      "MasVnrArea        762.0\n",
      "ExterQual            Ex\n",
      "ExterCond            TA\n",
      "TotalBsmtSF        3138\n",
      "Heating            GasA\n",
      "GrLivArea          4676\n",
      "KitchenQual          Ex\n",
      "GarageType      BuiltIn\n",
      "GarageFinish        Fin\n",
      "GarageCars            3\n",
      "SalePrice        184750\n",
      "TotalSF            7814\n",
      "HasPool           False\n",
      "Name: 523, dtype: object\n",
      "Id                 1299\n",
      "MSSubClass           60\n",
      "MSZoning             RL\n",
      "Street             Pave\n",
      "Alley              None\n",
      "Neighborhood    Edwards\n",
      "Condition1        Feedr\n",
      "Condition2         Norm\n",
      "HouseStyle       2Story\n",
      "OverallQual          10\n",
      "MasVnrType        Stone\n",
      "MasVnrArea        796.0\n",
      "ExterQual            Ex\n",
      "ExterCond            TA\n",
      "TotalBsmtSF        6110\n",
      "Heating            GasA\n",
      "GrLivArea          5642\n",
      "KitchenQual          Ex\n",
      "GarageType       Attchd\n",
      "GarageFinish        Fin\n",
      "GarageCars            2\n",
      "SalePrice       1600000\n",
      "TotalSF           11752\n",
      "HasPool            True\n",
      "Name: 1298, dtype: object\n"
     ]
    }
   ],
   "source": [
    "# There is another outlier that I believe is also an inaccuracy. The neighborhood is the same as the \n",
    "# outlier I previously revealed. The neighborhood is relatively inexpensive. It's also in the Edwards \n",
    "# neighborhood, which stands out from others.\n",
    "print(df[df['TotalSF'] > 7000])\n",
    "print(df.iloc[523])\n",
    "print(df.iloc[1298])"
   ]
  },
  {
   "cell_type": "code",
   "execution_count": 11,
   "id": "c739d5d4",
   "metadata": {},
   "outputs": [
    {
     "name": "stdout",
     "output_type": "stream",
     "text": [
      "        Id  MSSubClass  LotArea  OverallQual  OverallCond  YearBuilt  \\\n",
      "523    524          60    40094           10            5       2007   \n",
      "1298  1299          60    63887           10            5       2008   \n",
      "\n",
      "      YearRemodAdd  BsmtFinSF1  BsmtFinSF2  BsmtUnfSF  ...  WoodDeckSF  \\\n",
      "523           2008        2260           0        878  ...         208   \n",
      "1298          2008        5644           0        466  ...         214   \n",
      "\n",
      "      OpenPorchSF  EnclosedPorch  3SsnPorch  ScreenPorch  PoolArea  MiscVal  \\\n",
      "523           406              0          0            0         0        0   \n",
      "1298          292              0          0            0       480        0   \n",
      "\n",
      "      MoSold  YrSold  SalePrice  \n",
      "523       10    2007     184750  \n",
      "1298       1    2008     160000  \n",
      "\n",
      "[2 rows x 35 columns]\n"
     ]
    }
   ],
   "source": [
    "# I want to compare these locations further with the data from the original df.\n",
    "orig_df = pd.read_csv('../train.csv')\n",
    "print(orig_df.iloc[[523,1298]].select_dtypes('int64'))"
   ]
  },
  {
   "cell_type": "markdown",
   "id": "29cafc81",
   "metadata": {},
   "source": [
    "### Figure 3 - Correlation of LotArea to SalePrice"
   ]
  },
  {
   "cell_type": "code",
   "execution_count": 12,
   "id": "c062c7dd",
   "metadata": {},
   "outputs": [
    {
     "name": "stdout",
     "output_type": "stream",
     "text": [
      "correlation : (0.2638433538714057, 1.1231391549193063e-24)\n"
     ]
    },
    {
     "name": "stderr",
     "output_type": "stream",
     "text": [
      "/Users/skdod/opt/anaconda3/lib/python3.9/site-packages/statsmodels/tsa/tsatools.py:142: FutureWarning: In a future version of pandas all arguments of concat except for the argument 'objs' will be keyword-only\n",
      "  x = pd.concat(x[::order], 1)\n"
     ]
    },
    {
     "data": {
      "image/png": "[encoded data removed]",
      "text/plain": [
       "<Figure size 432x288 with 1 Axes>"
      ]
     },
     "metadata": {
      "needs_background": "light"
     },
     "output_type": "display_data"
    }
   ],
   "source": [
    "model = sm.OLS(orig_df['SalePrice'], sm.add_constant(orig_df['LotArea']))\n",
    "p = model.fit().params\n",
    "# generate x-values for your regression line (two is sufficient)\n",
    "x = orig_df['LotArea']\n",
    "# scatter-plot data\n",
    "ax = orig_df.plot(x='LotArea', y='SalePrice', kind='scatter', alpha = 0.1)\n",
    "# plot regression line on the same axes, set x-axis limits\n",
    "ax.plot(x, p.const + p['LotArea'] * x)\n",
    "print (\"correlation :\",scipy.stats.pearsonr(orig_df['SalePrice'], orig_df['LotArea']))"
   ]
  },
  {
   "cell_type": "code",
   "execution_count": 13,
   "id": "49625c97",
   "metadata": {},
   "outputs": [],
   "source": [
    "# These two homes are very large, on large plots of land, and brand new, so I believe that \n",
    "# the value is once again low by a factor of 10.\n",
    "df.at[523,'SalePrice'] = 10 * df.iloc[523]['SalePrice']"
   ]
  },
  {
   "cell_type": "code",
   "execution_count": 14,
   "id": "1687e2bf",
   "metadata": {
    "scrolled": true
   },
   "outputs": [
    {
     "name": "stdout",
     "output_type": "stream",
     "text": [
      "        Id  MSSubClass  OverallQual  TotalBsmtSF  GrLivArea  GarageCars  \\\n",
      "523    524          60           10         3138       4676           3   \n",
      "769    770          60            8         1650       3279           3   \n",
      "1298  1299          60           10         6110       5642           2   \n",
      "\n",
      "      SalePrice  TotalSF  \n",
      "523     1847500     7814  \n",
      "769      538000     4929  \n",
      "1298    1600000    11752  \n"
     ]
    },
    {
     "data": {
      "text/plain": [
       "'10,517'"
      ]
     },
     "execution_count": 14,
     "metadata": {},
     "output_type": "execute_result"
    }
   ],
   "source": [
    "# Looking back on the original df at the correlation of sale price and lot area, there is a decent\n",
    "# correlation. Now we will examine all values with large LotArea's defined as greater than 40,000.\n",
    "orig_df = pd.read_csv('../train.csv')\n",
    "# --- Uncomment below to examine the resulting df for yourself.\n",
    "# --- print(orig_df[orig_df['LotArea'] > 40000].select_dtypes('int64'))\n",
    "print(df.iloc[[523,769,1298]].select_dtypes('int64'))\n",
    "'{:,.0f}'.format(orig_df.LotArea.mean())"
   ]
  },
  {
   "cell_type": "markdown",
   "id": "62bcf63d",
   "metadata": {},
   "source": [
    "### Figure 4 - Correlation of SalePrice and TotalSF among 3 outliers within LotArea"
   ]
  },
  {
   "cell_type": "code",
   "execution_count": 15,
   "id": "8f5a9f91",
   "metadata": {},
   "outputs": [
    {
     "name": "stdout",
     "output_type": "stream",
     "text": [
      "correlation : (0.7029210741162513, 0.5037573939582445)\n"
     ]
    },
    {
     "name": "stderr",
     "output_type": "stream",
     "text": [
      "/Users/skdod/opt/anaconda3/lib/python3.9/site-packages/statsmodels/tsa/tsatools.py:142: FutureWarning: In a future version of pandas all arguments of concat except for the argument 'objs' will be keyword-only\n",
      "  x = pd.concat(x[::order], 1)\n"
     ]
    },
    {
     "data": {
      "image/png": "[encoded data removed]",
      "text/plain": [
       "<Figure size 432x288 with 1 Axes>"
      ]
     },
     "metadata": {
      "needs_background": "light"
     },
     "output_type": "display_data"
    }
   ],
   "source": [
    "# An interesting find was a home with a much larger lot area, but only about a third of the price of our \n",
    "# other two extreme values.\n",
    "model = sm.OLS(df.iloc[[523,769,1298]]['SalePrice'], sm.add_constant(df.iloc[[523,769,1298]]['TotalSF']))\n",
    "p = model.fit().params\n",
    "x = df.iloc[[523,769,1298]]['TotalSF']\n",
    "ax = df.iloc[[523,769,1298]].plot(x='TotalSF', y='SalePrice', kind='scatter', alpha = 0.5)\n",
    "ax.plot(x, p.const + p['TotalSF'] * x)\n",
    "print (\"correlation :\",scipy.stats.pearsonr(df.iloc[[523,769,1298]]['SalePrice'], df.iloc[[523,769,1298]]['TotalSF']))"
   ]
  },
  {
   "cell_type": "code",
   "execution_count": 16,
   "id": "c1b7aaec",
   "metadata": {},
   "outputs": [
    {
     "data": {
      "text/plain": [
       "SaleCondition\n",
       "Abnorml     8\n",
       "AdjLand     4\n",
       "Alloca      2\n",
       "Normal     82\n",
       "Partial     4\n",
       "Name: SalePrice, dtype: int64"
      ]
     },
     "execution_count": 16,
     "metadata": {},
     "output_type": "execute_result"
    }
   ],
   "source": [
    "# The above isn't technically a statistically significant result, however, it is largely \n",
    "# inline with our correlation of SalePrice to TotalSF overall. \n",
    "orig_df[orig_df['Neighborhood'] == 'Edwards'].groupby('SaleCondition').SalePrice.count()"
   ]
  },
  {
   "cell_type": "markdown",
   "id": "0daf90e4",
   "metadata": {},
   "source": [
    "### Figure 5 - Correlation of SalePrice and TotalSF after outlier SalePrice \n",
    "#### updated values increased by a factor of 10"
   ]
  },
  {
   "cell_type": "code",
   "execution_count": 17,
   "id": "e7d55b5c",
   "metadata": {},
   "outputs": [
    {
     "name": "stderr",
     "output_type": "stream",
     "text": [
      "/Users/skdod/opt/anaconda3/lib/python3.9/site-packages/statsmodels/tsa/tsatools.py:142: FutureWarning: In a future version of pandas all arguments of concat except for the argument 'objs' will be keyword-only\n",
      "  x = pd.concat(x[::order], 1)\n"
     ]
    },
    {
     "ename": "NameError",
     "evalue": "name 'r' is not defined",
     "output_type": "error",
     "traceback": [
      "\u001b[0;31m---------------------------------------------------------------------------\u001b[0m",
      "\u001b[0;31mNameError\u001b[0m                                 Traceback (most recent call last)",
      "\u001b[0;32m/var/folders/qp/hgh__lqs1dz1wk35m_9mqmn40000gn/T/ipykernel_18425/2095326763.py\u001b[0m in \u001b[0;36m<module>\u001b[0;34m\u001b[0m\n\u001b[1;32m      5\u001b[0m \u001b[0mx\u001b[0m \u001b[0;34m=\u001b[0m \u001b[0mdf\u001b[0m\u001b[0;34m[\u001b[0m\u001b[0;34m'TotalSF'\u001b[0m\u001b[0;34m]\u001b[0m\u001b[0;34m\u001b[0m\u001b[0;34m\u001b[0m\u001b[0m\n\u001b[1;32m      6\u001b[0m \u001b[0;31m# scatter-plot data\u001b[0m\u001b[0;34m\u001b[0m\u001b[0;34m\u001b[0m\u001b[0m\n\u001b[0;32m----> 7\u001b[0;31m \u001b[0max\u001b[0m \u001b[0;34m=\u001b[0m \u001b[0mdf\u001b[0m\u001b[0;34m.\u001b[0m\u001b[0mplot\u001b[0m\u001b[0;34m(\u001b[0m\u001b[0mx\u001b[0m\u001b[0;34m=\u001b[0m\u001b[0;34m'TotalSF'\u001b[0m\u001b[0;34m,\u001b[0m \u001b[0my\u001b[0m\u001b[0;34m=\u001b[0m\u001b[0;34m'SalePrice'\u001b[0m\u001b[0;34m,\u001b[0m \u001b[0mkind\u001b[0m\u001b[0;34m=\u001b[0m\u001b[0;34m'scatter'\u001b[0m\u001b[0;34m,\u001b[0m \u001b[0malpha\u001b[0m \u001b[0;34m=\u001b[0m \u001b[0;36m0.1\u001b[0m\u001b[0;34m,\u001b[0m \u001b[0mc\u001b[0m\u001b[0;34m=\u001b[0m\u001b[0mr\u001b[0m\u001b[0;34m)\u001b[0m\u001b[0;34m\u001b[0m\u001b[0;34m\u001b[0m\u001b[0m\n\u001b[0m\u001b[1;32m      8\u001b[0m \u001b[0;31m# plot regression line on the same axes, set x-axis limits\u001b[0m\u001b[0;34m\u001b[0m\u001b[0;34m\u001b[0m\u001b[0m\n\u001b[1;32m      9\u001b[0m \u001b[0max\u001b[0m\u001b[0;34m.\u001b[0m\u001b[0mplot\u001b[0m\u001b[0;34m(\u001b[0m\u001b[0mx\u001b[0m\u001b[0;34m,\u001b[0m \u001b[0mp\u001b[0m\u001b[0;34m.\u001b[0m\u001b[0mconst\u001b[0m \u001b[0;34m+\u001b[0m \u001b[0mp\u001b[0m\u001b[0;34m[\u001b[0m\u001b[0;34m'TotalSF'\u001b[0m\u001b[0;34m]\u001b[0m \u001b[0;34m*\u001b[0m \u001b[0mx\u001b[0m\u001b[0;34m)\u001b[0m\u001b[0;34m\u001b[0m\u001b[0;34m\u001b[0m\u001b[0m\n",
      "\u001b[0;31mNameError\u001b[0m: name 'r' is not defined"
     ]
    }
   ],
   "source": [
    "# These two changes\n",
    "model = sm.OLS(df['SalePrice'], sm.add_constant(df['TotalSF']))\n",
    "p = model.fit().params\n",
    "# generate x-values for your regression line (two is sufficient)\n",
    "x = df['TotalSF']\n",
    "# scatter-plot data\n",
    "ax = df.plot(x='TotalSF', y='SalePrice', kind='scatter', alpha = 0.1, c=r)\n",
    "# plot regression line on the same axes, set x-axis limits\n",
    "ax.plot(x, p.const + p['TotalSF'] * x)\n",
    "print (\"correlation :\",scipy.stats.pearsonr(df['SalePrice'], df['TotalSF']))"
   ]
  },
  {
   "cell_type": "code",
   "execution_count": null,
   "id": "db68403a",
   "metadata": {},
   "outputs": [],
   "source": [
    "# The two outliers make more sense, in terms of the dataset now, thought they skew the data significantly.\n",
    "df.columns"
   ]
  },
  {
   "cell_type": "markdown",
   "id": "56713870",
   "metadata": {},
   "source": [
    "### Examine all 3-dimensional correlations between all numeric columns and SalePrice and TotalSF"
   ]
  },
  {
   "cell_type": "code",
   "execution_count": null,
   "id": "c6fc7a92",
   "metadata": {},
   "outputs": [],
   "source": [
    "for col in df.select_dtypes('int64').drop(columns=['Id','TotalSF','SalePrice']).columns:    \n",
    "    sns.set(style = \"darkgrid\")\n",
    "\n",
    "    fig = plt.figure()\n",
    "    ax = fig.add_subplot(111, projection = '3d')\n",
    "\n",
    "    x = df[col]\n",
    "    y = df['TotalSF']\n",
    "    z = df['SalePrice']\n",
    "\n",
    "    ax.set_xlabel(col)\n",
    "    ax.set_ylabel(\"SF\")\n",
    "    ax.set_zlabel(\"Price\")\n",
    "\n",
    "    ax.scatter(x, y, z, c='g')\n",
    "\n",
    "    plt.show()"
   ]
  },
  {
   "cell_type": "code",
   "execution_count": null,
   "id": "8be47cdd",
   "metadata": {},
   "outputs": [],
   "source": [
    "# Another thing that stands out to me is the correlation of GarageCars and SF and Price, except for 4. So I\n",
    "# am going to combine 4 into the column 3.\n",
    "df['GarageCars'].replace(to_replace=4, value=3, inplace=True)\n",
    "df['GarageCars'].unique()"
   ]
  },
  {
   "cell_type": "markdown",
   "id": "1776f1c5",
   "metadata": {},
   "source": [
    "### Figure 6 - Correlation of GarageCars, TotalSF and SalePrice"
   ]
  },
  {
   "cell_type": "code",
   "execution_count": null,
   "id": "dc2d21ae",
   "metadata": {},
   "outputs": [],
   "source": [
    "sns.set(style = \"darkgrid\")\n",
    "\n",
    "fig = plt.figure()\n",
    "ax = fig.add_subplot(111, projection = '3d')\n",
    "\n",
    "x = df['GarageCars']\n",
    "y = df['TotalSF']\n",
    "z = df['SalePrice']\n",
    "\n",
    "ax.set_xlabel('GarageCars')\n",
    "ax.set_ylabel(\"SF\")\n",
    "ax.set_zlabel(\"Price\")\n",
    "\n",
    "ax.scatter(x, y, z, c='g')\n",
    "\n",
    "plt.show()"
   ]
  },
  {
   "cell_type": "markdown",
   "id": "a8ce6c42",
   "metadata": {},
   "source": [
    "### Correlations of SalePrice and TotalSf by OverallQual"
   ]
  },
  {
   "cell_type": "code",
   "execution_count": null,
   "id": "6d27ab55",
   "metadata": {},
   "outputs": [],
   "source": [
    "# One observation I've made is that each variable is pretty strongly correlated for lower values, \n",
    "# but I believe this will be explained in some of the qualitative variables.\n",
    "for value in df.OverallQual.unique():\n",
    "    col_model = sm.OLS(df[df['OverallQual'] == value]['SalePrice'], sm.add_constant(df[df['OverallQual'] == value]['TotalSF']))\n",
    "    col_p = col_model.fit().params\n",
    "    x = df[df['OverallQual'] == value]['TotalSF']\n",
    "    ax = df[df['OverallQual'] == value].plot(x='TotalSF', y='SalePrice', kind='scatter', alpha = 0.5, title=value)\n",
    "    corrcoef = scipy.stats.pearsonr(df[df['OverallQual'] == value]['SalePrice'], df[df['OverallQual'] == value]['TotalSF'])\n",
    "    if(np.abs(corrcoef[0]) > .2):\n",
    "        print(value, \" correlation : \",corrcoef)"
   ]
  },
  {
   "cell_type": "code",
   "execution_count": null,
   "id": "75587d18",
   "metadata": {},
   "outputs": [],
   "source": [
    "# Overall Condition values over above three yeild strong correlations between SalePrice and TotalSF. \n",
    "print(df[(df['SalePrice'] > 35000) & (df['SalePrice'] < 61000) & (df['TotalSF'] > 700) & (df['TotalSF'] < 1000)])"
   ]
  },
  {
   "cell_type": "markdown",
   "id": "80e90bce",
   "metadata": {},
   "source": [
    "### Figure 7 - Correlation of TotalSF and SalePrice, \n",
    "#### restricted to SalePrice under $100,000 and TotalSF under 1400"
   ]
  },
  {
   "cell_type": "code",
   "execution_count": null,
   "id": "c4a66a5c",
   "metadata": {},
   "outputs": [],
   "source": [
    "# What I see above is that the first value, with id 711, Each of them seems to correlate roughly \n",
    "# between neighborhood mean values to sale price. IDOTRR is the cheapest average price of the 3, \n",
    "# and the home in that neighborhood is also the cheapest, and SWISU is the most expensive of the\n",
    "# 3 on average, and the home in SWISU is the most expensive, despite being the smallest. I believe\n",
    "# the appearance of these values as outliers is explained by the neighborhoods they are in, and \n",
    "# therefore they fit the dataset fairly well overall.\n",
    "restricted_df = df[(df['SalePrice'] < 100000) & (df['TotalSF'] < 1400)]\n",
    "model = sm.OLS(restricted_df['SalePrice'], sm.add_constant(restricted_df['TotalSF']))\n",
    "p = model.fit().params\n",
    "# generate x-values for your regression line (two is sufficient)\n",
    "x = restricted_df['TotalSF']\n",
    "# scatter-plot data\n",
    "ax = restricted_df.plot(x='TotalSF', y='SalePrice', kind='scatter', alpha = 0.1)\n",
    "# plot regression line on the same axes, set x-axis limits\n",
    "ax.plot(x, p.const + p['TotalSF'] * x)\n",
    "print (\"correlation :\",scipy.stats.pearsonr(restricted_df['SalePrice'], restricted_df['TotalSF']))"
   ]
  },
  {
   "cell_type": "markdown",
   "id": "3c7768f8",
   "metadata": {},
   "source": [
    "##### As we see above, the restricted correlation is not strong, nor as statistically significant, as the \n",
    "##### dataset as a whole."
   ]
  },
  {
   "cell_type": "markdown",
   "id": "3c30b93a",
   "metadata": {},
   "source": [
    "### Figure 8 - Correlation of TotalSF and SalePrice, restricted to those homes under $300,000"
   ]
  },
  {
   "cell_type": "code",
   "execution_count": null,
   "id": "f1136867",
   "metadata": {},
   "outputs": [],
   "source": [
    "restricted_df = df[df['SalePrice'] < 300000]\n",
    "model = sm.OLS(restricted_df['SalePrice'], sm.add_constant(restricted_df['TotalSF']))\n",
    "p = model.fit().params\n",
    "x = restricted_df['TotalSF']\n",
    "ax = restricted_df.plot(x='TotalSF', y='SalePrice', kind='scatter', alpha = 0.1)\n",
    "ax.plot(x, p.const + p['TotalSF'] * x)\n",
    "print (\"correlation :\",scipy.stats.pearsonr(restricted_df['SalePrice'], restricted_df['TotalSF']))"
   ]
  },
  {
   "cell_type": "markdown",
   "id": "585d6118",
   "metadata": {},
   "source": [
    "### Scatterplots to examine the correlation of TotalSF and SalePrice"
   ]
  },
  {
   "cell_type": "code",
   "execution_count": null,
   "id": "7acf0328",
   "metadata": {
    "scrolled": false
   },
   "outputs": [],
   "source": [
    "# The correlation seems to be more quadratic than linear, which seems to suggest that neighborhood, as\n",
    "# seen above, plays a role in both total sf and sale price, which I now hypothesize causes this affect.\n",
    "# I will now loop over neighborhoods to view the correlation of area and sale price.\n",
    "for value in sorted(df.Neighborhood.unique()):\n",
    "    col_model = sm.OLS(df[df['Neighborhood'] == value]['SalePrice'], sm.add_constant(df[df['Neighborhood'] == value]['TotalSF']))\n",
    "    col_p = col_model.fit().params\n",
    "    x = df[df['Neighborhood'] == value]['TotalSF']\n",
    "    ax = df[df['Neighborhood'] == value].plot(x='TotalSF', \\\n",
    "        y='SalePrice', kind='scatter', alpha = 0.5, \\\n",
    "        title= str(df[df['Neighborhood'] == value]['Id'].count()) \\\n",
    "        + ' - ' + value + ' - ${:,.2f}'.format(df[df['Neighborhood'] \\\n",
    "        == value]['SalePrice'].mean()))\n",
    "    ax.plot(x, p.const + p['TotalSF'] * x)\n",
    "    ax.plot(x, col_p.const + col_p['TotalSF'] * x)\n",
    "    corrcoef = scipy.stats.pearsonr(df[df['Neighborhood'] == value]['SalePrice'], df[df['Neighborhood'] == value]['TotalSF'])\n",
    "    if(np.abs(corrcoef[0]) > .2):\n",
    "        print(value, \" correlation : \",corrcoef)"
   ]
  },
  {
   "cell_type": "markdown",
   "id": "7f08a666",
   "metadata": {},
   "source": [
    "### Figure 9.1 - Correlation of YearBuilt and SalePrice on the original dataset"
   ]
  },
  {
   "cell_type": "code",
   "execution_count": null,
   "id": "266973e8",
   "metadata": {},
   "outputs": [],
   "source": [
    "# I'd like to look more into my two major outliers in Edwards neighborhood, which I adjusted their\n",
    "# values by a factor of 10. They were both newly built homes, of high quality, and very large size.\n",
    "restricted_df = orig_df\n",
    "model = sm.OLS(restricted_df['SalePrice'], sm.add_constant(restricted_df['YearBuilt']))\n",
    "p = model.fit().params\n",
    "x = restricted_df['YearBuilt']\n",
    "ax = restricted_df.plot(x='YearBuilt', y='SalePrice', kind='scatter', alpha = 0.1)\n",
    "ax.plot(x, p.const + p['YearBuilt'] * x)\n",
    "print(p.const)\n",
    "print (\"correlation :\",scipy.stats.pearsonr(restricted_df['SalePrice'], restricted_df['YearBuilt']))"
   ]
  },
  {
   "cell_type": "markdown",
   "id": "4c7d1ebb",
   "metadata": {},
   "source": [
    "### Figure 9.2 - Correlation of TotalSF and YearBuilt"
   ]
  },
  {
   "cell_type": "code",
   "execution_count": null,
   "id": "66d30064",
   "metadata": {},
   "outputs": [],
   "source": [
    "df['YearBuilt'] = orig_df['YearBuilt']\n",
    "restricted_df = df\n",
    "model = sm.OLS(restricted_df['TotalSF'], sm.add_constant(restricted_df['YearBuilt']))\n",
    "p = model.fit().params\n",
    "x = restricted_df['YearBuilt']\n",
    "ax = restricted_df.plot(x='YearBuilt', y='TotalSF', kind='scatter', alpha = 0.1)\n",
    "ax.plot(x, p.const + p['YearBuilt'] * x)\n",
    "print (\"correlation :\",scipy.stats.pearsonr(restricted_df['TotalSF'], restricted_df['YearBuilt']))"
   ]
  },
  {
   "cell_type": "markdown",
   "id": "88ed0d48",
   "metadata": {},
   "source": [
    "### Figure 9.3 - Correlation of SalePrice and YearBuilt on updated dataset"
   ]
  },
  {
   "cell_type": "code",
   "execution_count": null,
   "id": "a812e812",
   "metadata": {},
   "outputs": [],
   "source": [
    "model = sm.OLS(df['SalePrice'], sm.add_constant(df['YearBuilt']))\n",
    "p = model.fit().params\n",
    "x = df['YearBuilt']\n",
    "ax = df.plot(x='YearBuilt', y='SalePrice', kind='scatter', alpha = 0.1)\n",
    "ax.plot(x, p.const + p['YearBuilt'] * x, c='red')\n",
    "print(p.const)\n",
    "print (\"correlation :\",scipy.stats.pearsonr(df['SalePrice'], df['YearBuilt']))"
   ]
  },
  {
   "cell_type": "markdown",
   "id": "d40911ab",
   "metadata": {},
   "source": [
    "### Figure 9.4 - Quadratic regression of SalePrice and YearBuilt"
   ]
  },
  {
   "cell_type": "code",
   "execution_count": null,
   "id": "2be18232",
   "metadata": {},
   "outputs": [],
   "source": [
    "model = np.poly1d(np.polyfit(df['YearBuilt'], df['SalePrice'], 2))\n",
    "\n",
    "#add fitted polynomial line to scatterplot\n",
    "polyline = np.linspace(1870, 2008, 50)\n",
    "plt.scatter(df['YearBuilt'], df['SalePrice'], alpha=.04)\n",
    "plt.plot(polyline, model(polyline))\n",
    "plt.xlim(1860,2020)\n",
    "plt.ylim(100000,300000)\n",
    "plt.show()"
   ]
  },
  {
   "cell_type": "markdown",
   "id": "4ef2c252",
   "metadata": {},
   "source": [
    "### Figure 9.5 - Quadratic regression of YearBuilt and TotalSF"
   ]
  },
  {
   "cell_type": "code",
   "execution_count": null,
   "id": "33c2d94c",
   "metadata": {},
   "outputs": [],
   "source": [
    "model = np.poly1d(np.polyfit(df['YearBuilt'], df['TotalSF'], 2))\n",
    "\n",
    "#add fitted polynomial line to scatterplot\n",
    "polyline = np.linspace(1870, 2008, 50)\n",
    "plt.scatter(df['YearBuilt'], df['TotalSF'], alpha=.04)\n",
    "plt.plot(polyline, model(polyline))\n",
    "plt.xlim(1860,2020)\n",
    "plt.ylim(2000,3500)\n",
    "plt.show()"
   ]
  },
  {
   "cell_type": "markdown",
   "id": "8eb73ecf",
   "metadata": {},
   "source": [
    "### Figure 9.6 - Quadratic regression of TotalSF And SalePrice"
   ]
  },
  {
   "cell_type": "code",
   "execution_count": null,
   "id": "f16bc02f",
   "metadata": {
    "scrolled": true
   },
   "outputs": [],
   "source": [
    "model = np.poly1d(np.polyfit(df['TotalSF'], df['SalePrice'], 2))\n",
    "\n",
    "#add fitted polynomial line to scatterplot\n",
    "polyline = np.linspace(200, 12000, 50)\n",
    "plt.scatter(df['TotalSF'], df['SalePrice'], alpha=.5)\n",
    "plt.plot(polyline, model(polyline), c='r')\n",
    "plt.xlim(0,12100)\n",
    "plt.ylim(2000,2000000)\n",
    "plt.plot(x, .76 * x)\n",
    "plt.show()"
   ]
  },
  {
   "cell_type": "code",
   "execution_count": null,
   "id": "ff3930e1",
   "metadata": {},
   "outputs": [],
   "source": [
    "neighborhood_df = df.drop(columns=['Id','MSSubClass']).groupby('Neighborhood').mean()\n",
    "\n",
    "scaled_neighborhood = scale(neighborhood_df.select_dtypes(['int64','float64']))\n",
    "scaled_neighborhood_df = pd.DataFrame(scaled_neighborhood, columns=[neighborhood_df.select_dtypes(['int64','float64']).columns])\n",
    "scaled_neighborhood_df_x = scaled_neighborhood_df\n",
    "scaled_neighborhood_df_x.head()"
   ]
  },
  {
   "cell_type": "markdown",
   "id": "12599790",
   "metadata": {},
   "source": [
    "### Figure 10.1"
   ]
  },
  {
   "cell_type": "code",
   "execution_count": null,
   "id": "66bf6ffd",
   "metadata": {},
   "outputs": [],
   "source": [
    "neighborhood_pca = PCA().fit(scaled_neighborhood_df)\n",
    "plt.subplots(figsize=(10, 6))\n",
    "plt.plot(neighborhood_pca.explained_variance_ratio_.cumsum())\n",
    "plt.xlabel('Component #')\n",
    "plt.ylabel('Cumulative ratio variance')\n",
    "plt.title('Cumulative variance ratio explained by PCA components for state/resort summary statistics');\n",
    "neighborhood_pca_x = neighborhood_pca.transform(scaled_neighborhood)\n",
    "neighborhood_pca_x.shape"
   ]
  },
  {
   "cell_type": "markdown",
   "id": "196e9354",
   "metadata": {},
   "source": [
    "### Figure 10.2"
   ]
  },
  {
   "cell_type": "code",
   "execution_count": null,
   "id": "7e82c223",
   "metadata": {},
   "outputs": [],
   "source": [
    "x = neighborhood_pca_x[:, 0]\n",
    "y = neighborhood_pca_x[:, 1]\n",
    "neighborhood = df['Neighborhood'].unique()\n",
    "pc_var = 100 * neighborhood_pca.explained_variance_ratio_.cumsum()[1]\n",
    "plt.subplots(figsize=(10,8))\n",
    "plt.scatter(x=x, y=y)\n",
    "plt.xlabel('First component')\n",
    "plt.ylabel('Second component')\n",
    "plt.title(f'Neighborhoods summary PCA, {pc_var:.1f}% variance explained')\n",
    "for s, x, y in zip(neighborhood, x, y):\n",
    "    plt.annotate(s, (x, y))"
   ]
  },
  {
   "cell_type": "code",
   "execution_count": null,
   "id": "88f277e9",
   "metadata": {},
   "outputs": [],
   "source": [
    "print(df.groupby('Neighborhood').mean())\n",
    "print(df[df['Neighborhood'] == 'Edwards'].mean())\n",
    "print(orig_df[orig_df['Neighborhood'] == 'Edwards'].mean())"
   ]
  },
  {
   "cell_type": "code",
   "execution_count": null,
   "id": "e062adb2",
   "metadata": {},
   "outputs": [],
   "source": [
    "# I notice that Edwards neighborhood is again an outlier, and I want to understand why. I will examine this\n",
    "# further by replacing the updated values with the original values, and then running the above on the \n",
    "# original sale price column.\n",
    "\n",
    "neighborhood_df = df.drop(columns=['Id','MSSubClass'])\n",
    "neighborhood_df['SalePrice'] = orig_df['SalePrice']\n",
    "neighborhood_df = neighborhood_df.groupby('Neighborhood').mean()\n",
    "print(neighborhood_df.iloc[7])\n",
    "scaled_neighborhood = scale(neighborhood_df.select_dtypes(['int64','float64']))\n",
    "scaled_neighborhood_df = pd.DataFrame(scaled_neighborhood, columns=[neighborhood_df.select_dtypes(['int64','float64']).columns])\n",
    "scaled_neighborhood_df_x = scaled_neighborhood_df\n",
    "scaled_neighborhood_df_x.head()"
   ]
  },
  {
   "cell_type": "markdown",
   "id": "6d414285",
   "metadata": {},
   "source": [
    "### Figure 10.3"
   ]
  },
  {
   "cell_type": "code",
   "execution_count": null,
   "id": "17791b2f",
   "metadata": {},
   "outputs": [],
   "source": [
    "neighborhood_pca = PCA().fit(scaled_neighborhood_df)\n",
    "plt.subplots(figsize=(10, 6))\n",
    "plt.plot(neighborhood_pca.explained_variance_ratio_.cumsum())\n",
    "plt.xlabel('Component #')\n",
    "plt.ylabel('Cumulative ratio variance')\n",
    "plt.title('Cumulative variance ratio explained by PCA components for state/resort summary statistics');\n",
    "neighborhood_pca_x = neighborhood_pca.transform(scaled_neighborhood)\n",
    "neighborhood_pca_x.shape"
   ]
  },
  {
   "cell_type": "markdown",
   "id": "d3f4eae6",
   "metadata": {},
   "source": [
    "### Figure 10.4"
   ]
  },
  {
   "cell_type": "code",
   "execution_count": null,
   "id": "72b0b524",
   "metadata": {},
   "outputs": [],
   "source": [
    "x = neighborhood_pca_x[:, 0]\n",
    "y = neighborhood_pca_x[:, 1]\n",
    "neighborhood = df['Neighborhood'].unique()\n",
    "pc_var = 100 * neighborhood_pca.explained_variance_ratio_.cumsum()[1]\n",
    "plt.subplots(figsize=(10,8))\n",
    "plt.scatter(x=x, y=y)\n",
    "plt.xlabel('First component')\n",
    "plt.ylabel('Second component')\n",
    "plt.title(f'Neighborhoods summary PCA, {pc_var:.1f}% variance explained')\n",
    "for s, x, y in zip(neighborhood, x, y):\n",
    "    plt.annotate(s, (x, y))"
   ]
  },
  {
   "cell_type": "code",
   "execution_count": null,
   "id": "5ff2192a",
   "metadata": {},
   "outputs": [],
   "source": [
    "df['MSSubClass'] = df['MSSubClass'].astype(str)\n",
    "sub_class_df = df.drop(columns=['Id']).groupby('MSSubClass').mean()\n",
    "\n",
    "scaled_sub_class = scale(sub_class_df.select_dtypes(['int64','float64']))\n",
    "scaled_sub_class_df = pd.DataFrame(scaled_sub_class, columns=[sub_class_df.select_dtypes(['int64','float64']).columns])\n",
    "scaled_sub_class_df_x = scaled_sub_class_df\n",
    "scaled_sub_class_df_x.head()"
   ]
  },
  {
   "cell_type": "markdown",
   "id": "c5541905",
   "metadata": {},
   "source": [
    "### Figure 11.1"
   ]
  },
  {
   "cell_type": "code",
   "execution_count": null,
   "id": "80c554e5",
   "metadata": {},
   "outputs": [],
   "source": [
    "sub_class_pca = PCA().fit(scaled_sub_class_df)\n",
    "plt.subplots(figsize=(10, 6))\n",
    "plt.plot(sub_class_pca.explained_variance_ratio_.cumsum())\n",
    "plt.xlabel('Component #')\n",
    "plt.ylabel('Cumulative ratio variance')\n",
    "plt.title('Cumulative variance ratio explained by PCA components for state/resort summary statistics');\n",
    "sub_class_pca_x = sub_class_pca.transform(scaled_sub_class)\n",
    "sub_class_pca_x.shape"
   ]
  },
  {
   "cell_type": "markdown",
   "id": "fa73f99d",
   "metadata": {},
   "source": [
    "Figure 11.2"
   ]
  },
  {
   "cell_type": "code",
   "execution_count": null,
   "id": "dcf35714",
   "metadata": {},
   "outputs": [],
   "source": [
    "x = sub_class_pca_x[:, 0]\n",
    "y = sub_class_pca_x[:, 1]\n",
    "sub_class = df['MSSubClass'].unique()\n",
    "pc_var = 100 * sub_class_pca.explained_variance_ratio_.cumsum()[1]\n",
    "plt.subplots(figsize=(10,8))\n",
    "plt.scatter(x=x, y=y)\n",
    "plt.xlabel('First component')\n",
    "plt.ylabel('Second component')\n",
    "plt.title(f'Neighborhoods summary PCA, {pc_var:.1f}% variance explained')\n",
    "for s, x, y in zip(sub_class, x, y):\n",
    "    plt.annotate(s, (x, y))"
   ]
  },
  {
   "cell_type": "code",
   "execution_count": null,
   "id": "2a0ab930",
   "metadata": {},
   "outputs": [],
   "source": [
    "# We see above that 160, which is newer 2-story homes and split foyer homes, 85, are possibly outliers.\n",
    "# An obvious connection here is to area, which will be greater for 2-story homes. "
   ]
  },
  {
   "cell_type": "markdown",
   "id": "21941ad1",
   "metadata": {},
   "source": [
    "### Figure 12.1"
   ]
  },
  {
   "cell_type": "code",
   "execution_count": null,
   "id": "3c55798f",
   "metadata": {},
   "outputs": [],
   "source": [
    "corr = df.select_dtypes(['int64','float64']).drop(columns=['Id']).corr()\n",
    "corr.style.background_gradient(cmap='coolwarm')"
   ]
  },
  {
   "cell_type": "code",
   "execution_count": null,
   "id": "70321bfa",
   "metadata": {},
   "outputs": [],
   "source": [
    "# I'm going to drop MasVnrArea as well now. Unlike year built, this isn't the \n",
    "# type of value that would be parabolic.\n",
    "df.drop(columns=['MasVnrArea'], inplace = True)"
   ]
  },
  {
   "cell_type": "markdown",
   "id": "7f36693f",
   "metadata": {},
   "source": [
    "### Figure 12.2"
   ]
  },
  {
   "cell_type": "code",
   "execution_count": null,
   "id": "564a1fb5",
   "metadata": {
    "scrolled": false
   },
   "outputs": [],
   "source": [
    "corr = df.select_dtypes(['int64','float64']).drop(columns=['Id']).corr()\n",
    "corr.style.background_gradient(cmap='coolwarm')"
   ]
  },
  {
   "cell_type": "code",
   "execution_count": null,
   "id": "ef2ec8ab",
   "metadata": {},
   "outputs": [],
   "source": [
    "datapath = '../data'\n",
    "save_file(df, 'house_refined_data_cleaned.csv', datapath)"
   ]
  }
 ],
 "metadata": {
  "kernelspec": {
   "display_name": "Python 3 (ipykernel)",
   "language": "python",
   "name": "python3"
  },
  "language_info": {
   "codemirror_mode": {
    "name": "ipython",
    "version": 3
   },
   "file_extension": ".py",
   "mimetype": "text/x-python",
   "name": "python",
   "nbconvert_exporter": "python",
   "pygments_lexer": "ipython3",
   "version": "3.9.7"
  }
 },
 "nbformat": 4,
 "nbformat_minor": 5
}
