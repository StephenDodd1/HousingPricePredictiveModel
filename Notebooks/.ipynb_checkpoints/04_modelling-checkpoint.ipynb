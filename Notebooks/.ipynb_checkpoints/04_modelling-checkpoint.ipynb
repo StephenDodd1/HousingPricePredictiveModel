{
 "cells": [
  {
   "cell_type": "markdown",
   "id": "5726c5b4",
   "metadata": {},
   "source": [
    "# House Prices Predictive Model"
   ]
  },
  {
   "cell_type": "markdown",
   "id": "44c4717e",
   "metadata": {},
   "source": [
    "# 4 - Modelling"
   ]
  },
  {
   "cell_type": "code",
   "execution_count": 2,
   "id": "a6d30166",
   "metadata": {},
   "outputs": [],
   "source": [
    "import pandas as pd\n",
    "import numpy as np\n",
    "from sklearn import svm\n",
    "from sklearn.metrics import r2_score\n",
    "from sklearn.model_selection import RandomizedSearchCV\n",
    "from sklearn.naive_bayes import GaussianNB\n",
    "from sklearn.model_selection import train_test_split\n",
    "import matplotlib.pyplot as plt\n",
    "from sklearn.ensemble import RandomForestClassifier\n",
    "from scipy.stats import t\n",
    "import scipy.stats as st\n",
    "\n",
    "from sklearn.gaussian_process import GaussianProcessRegressor"
   ]
  },
  {
   "cell_type": "code",
   "execution_count": 55,
   "id": "6082c2a3",
   "metadata": {},
   "outputs": [],
   "source": [
    "df = pd.read_csv('../data/house_refined_data_cleaned.csv')\n",
    "scaled_train_X = np.genfromtxt('../data/scaled_train_X.csv', delimiter=\",\")\n",
    "scaled_test_X = np.genfromtxt('../data/scaled_test_X.csv', delimiter=\",\")\n",
    "y_train = np.genfromtxt('../data/train_y.csv', delimiter=\",\")\n",
    "y_test = np.genfromtxt('../data/test_y.csv', delimiter=\",\")"
   ]
  },
  {
   "cell_type": "markdown",
   "id": "a020bbba",
   "metadata": {},
   "source": [
    "## SVM"
   ]
  },
  {
   "cell_type": "code",
   "execution_count": 56,
   "id": "57def592",
   "metadata": {},
   "outputs": [
    {
     "data": {
      "text/plain": [
       "SVC()"
      ]
     },
     "execution_count": 56,
     "metadata": {},
     "output_type": "execute_result"
    }
   ],
   "source": [
    "model = svm.SVC()\n",
    "model.fit(scaled_train_X, y_train)"
   ]
  },
  {
   "cell_type": "markdown",
   "id": "33fcee86",
   "metadata": {},
   "source": [
    "### Initial Predictions"
   ]
  },
  {
   "cell_type": "code",
   "execution_count": 57,
   "id": "5dc5a1d7",
   "metadata": {},
   "outputs": [],
   "source": [
    "y_test_pred = model.predict(scaled_test_X)\n",
    "y_train_pred = model.predict(scaled_train_X)"
   ]
  },
  {
   "cell_type": "code",
   "execution_count": 58,
   "id": "a738e592",
   "metadata": {},
   "outputs": [
    {
     "name": "stdout",
     "output_type": "stream",
     "text": [
      "Our training data scores as 0.6006294606232587\n"
     ]
    }
   ],
   "source": [
    "print('Our training data scores as',str(r2_score(y_train,y_train_pred)))"
   ]
  },
  {
   "cell_type": "code",
   "execution_count": 59,
   "id": "092de225",
   "metadata": {},
   "outputs": [
    {
     "name": "stdout",
     "output_type": "stream",
     "text": [
      "Our testing data scores as 0.07161644913112608\n"
     ]
    }
   ],
   "source": [
    "print('Our testing data scores as',str(r2_score(y_test,y_test_pred)))"
   ]
  },
  {
   "cell_type": "markdown",
   "id": "ef7617e4",
   "metadata": {},
   "source": [
    "#### The model is overfitting to a great extent, so I will now put a restriction on max_iter."
   ]
  },
  {
   "cell_type": "markdown",
   "id": "9da764d9",
   "metadata": {},
   "source": [
    "### Define max_iter param"
   ]
  },
  {
   "cell_type": "code",
   "execution_count": 60,
   "id": "c1ce9487",
   "metadata": {},
   "outputs": [
    {
     "name": "stderr",
     "output_type": "stream",
     "text": [
      "/Users/skdod/opt/anaconda3/lib/python3.9/site-packages/sklearn/svm/_base.py:255: ConvergenceWarning: Solver terminated early (max_iter=3).  Consider pre-processing your data with StandardScaler or MinMaxScaler.\n",
      "  warnings.warn('Solver terminated early (max_iter=%i).'\n"
     ]
    },
    {
     "data": {
      "text/plain": [
       "SVC(max_iter=3)"
      ]
     },
     "execution_count": 60,
     "metadata": {},
     "output_type": "execute_result"
    }
   ],
   "source": [
    "model = svm.SVC(max_iter=3)\n",
    "model.fit(scaled_train_X, y_train)"
   ]
  },
  {
   "cell_type": "markdown",
   "id": "83aa26c5",
   "metadata": {},
   "source": [
    "### Predictions with max_iter defined as 3"
   ]
  },
  {
   "cell_type": "code",
   "execution_count": 61,
   "id": "0d9e53a1",
   "metadata": {},
   "outputs": [],
   "source": [
    "y_test_pred = model.predict(scaled_test_X)\n",
    "y_train_pred = model.predict(scaled_train_X)"
   ]
  },
  {
   "cell_type": "code",
   "execution_count": 62,
   "id": "3fbec200",
   "metadata": {
    "scrolled": true
   },
   "outputs": [
    {
     "data": {
      "text/plain": [
       "0.7012803139064598"
      ]
     },
     "execution_count": 62,
     "metadata": {},
     "output_type": "execute_result"
    }
   ],
   "source": [
    "r2_score(y_train,y_train_pred)"
   ]
  },
  {
   "cell_type": "code",
   "execution_count": 63,
   "id": "bd4ecb0b",
   "metadata": {
    "scrolled": true
   },
   "outputs": [
    {
     "data": {
      "text/plain": [
       "0.17023091294835757"
      ]
     },
     "execution_count": 63,
     "metadata": {},
     "output_type": "execute_result"
    }
   ],
   "source": [
    "r2_score(y_test,y_test_pred)"
   ]
  },
  {
   "cell_type": "markdown",
   "id": "79abf47a",
   "metadata": {},
   "source": [
    "#### While this is a resonable improvement, I want to hypertune some of the parameters, to get the ideal model. I could play with this model all day, and have great fun predicting how the changes I make will impact my model, but I would not ever stumble across a better model than could be found by hypertuning my parameters via RandomizedSearchCV."
   ]
  },
  {
   "cell_type": "markdown",
   "id": "dd834a03",
   "metadata": {},
   "source": [
    "### Hyperparameter tuning with RandomizedSearchCV"
   ]
  },
  {
   "cell_type": "code",
   "execution_count": 64,
   "id": "38b58433",
   "metadata": {},
   "outputs": [],
   "source": [
    "# model = svm.SVC()\n",
    "# distributions = dict(max_iter=range(0,15),C=np.arange(1.0,10.0,.1), kernel=['linear', 'poly', 'rbf', 'sigmoid', 'precomputed'] )\n",
    "# clf = RandomizedSearchCV(model, distributions, random_state=0, scoring='r2')\n",
    "# search = clf.fit(scaled_train_X, y_train)\n",
    "# search.best_params_"
   ]
  },
  {
   "cell_type": "markdown",
   "id": "87f265ef",
   "metadata": {},
   "source": [
    "## Implement SVM with optimal params"
   ]
  },
  {
   "cell_type": "code",
   "execution_count": 65,
   "id": "40bb39da",
   "metadata": {},
   "outputs": [
    {
     "name": "stderr",
     "output_type": "stream",
     "text": [
      "/Users/skdod/opt/anaconda3/lib/python3.9/site-packages/sklearn/svm/_base.py:255: ConvergenceWarning: Solver terminated early (max_iter=13).  Consider pre-processing your data with StandardScaler or MinMaxScaler.\n",
      "  warnings.warn('Solver terminated early (max_iter=%i).'\n"
     ]
    },
    {
     "name": "stdout",
     "output_type": "stream",
     "text": [
      "0.4226354468950263\n",
      "0.3254113320645843\n"
     ]
    }
   ],
   "source": [
    "model = svm.SVC(C=2.3, kernel='sigmoid', max_iter=13)\n",
    "model.fit(scaled_train_X, y_train)\n",
    "y_test_pred = model.predict(scaled_test_X)\n",
    "y_train_pred = model.predict(scaled_train_X)\n",
    "\n",
    "print(r2_score(y_train,y_train_pred))\n",
    "\n",
    "print(r2_score(y_test,y_test_pred))"
   ]
  },
  {
   "cell_type": "markdown",
   "id": "58cd3bb1",
   "metadata": {},
   "source": [
    "### Examine data"
   ]
  },
  {
   "cell_type": "code",
   "execution_count": 66,
   "id": "963cb0b9",
   "metadata": {},
   "outputs": [
    {
     "name": "stdout",
     "output_type": "stream",
     "text": [
      "320000.0 1600000.0\n",
      "292 292\n",
      "-18522.54109589041\n",
      "-14187.567010309278\n"
     ]
    }
   ],
   "source": [
    "diff = np.array(y_test_pred - np.array(y_test))\n",
    "print(y_test_pred[259], y_test[259])\n",
    "print(len(y_test_pred), len(y_test))\n",
    "print(np.mean(diff))\n",
    "print(np.mean(np.delete(diff, 259)))\n",
    "y_test_pred = np.delete(y_test_pred, 259)"
   ]
  },
  {
   "cell_type": "code",
   "execution_count": 79,
   "id": "d49af69b",
   "metadata": {},
   "outputs": [
    {
     "name": "stdout",
     "output_type": "stream",
     "text": [
      "(array([53, 98, 80, 29, 14,  6,  7,  1,  0,  2,  0,  0,  0,  1,  0,  0,  0,\n",
      "        0,  0,  0,  0,  0,  0,  0,  0,  0,  0,  0,  0,  1]), array([  67000.,  118100.,  169200.,  220300.,  271400.,  322500.,\n",
      "        373600.,  424700.,  475800.,  526900.,  578000.,  629100.,\n",
      "        680200.,  731300.,  782400.,  833500.,  884600.,  935700.,\n",
      "        986800., 1037900., 1089000., 1140100., 1191200., 1242300.,\n",
      "       1293400., 1344500., 1395600., 1446700., 1497800., 1548900.,\n",
      "       1600000.]))\n",
      "(array([ 2,  0,  0,  9, 16,  2, 18, 10, 22, 63,  7,  6,  7, 38,  9,  0, 12,\n",
      "        9,  1, 36,  3,  8,  2,  1,  1,  0,  8,  0,  0,  1]), array([ 55022.00419968,  64021.90350988,  73021.80282008,  82021.70213028,\n",
      "        91021.60144048, 100021.50075068, 109021.40006088, 118021.29937108,\n",
      "       127021.19868128, 136021.09799148, 145020.99730168, 154020.89661188,\n",
      "       163020.79592207, 172020.69523227, 181020.59454247, 190020.49385267,\n",
      "       199020.39316287, 208020.29247307, 217020.19178327, 226020.09109347,\n",
      "       235019.99040367, 244019.88971387, 253019.78902407, 262019.68833427,\n",
      "       271019.58764447, 280019.48695467, 289019.38626487, 298019.28557506,\n",
      "       307019.18488526, 316019.08419546, 325018.98350566]))\n"
     ]
    },
    {
     "data": {
      "image/png": "[encoded data removed]",
      "text/plain": [
       "<Figure size 432x288 with 1 Axes>"
      ]
     },
     "metadata": {
      "needs_background": "light"
     },
     "output_type": "display_data"
    }
   ],
   "source": [
    "print(np.histogram(y_test, bins=30))\n",
    "print(np.histogram(y_test_pred, bins=30))\n",
    "plt.hist(np.histogram(y_test, bins=30)[0])\n",
    "plt.hist(np.histogram(y_test, bins=30)[0])\n",
    "plt.show()"
   ]
  },
  {
   "cell_type": "code",
   "execution_count": 80,
   "id": "5c24548f",
   "metadata": {},
   "outputs": [
    {
     "name": "stdout",
     "output_type": "stream",
     "text": [
      "291 291\n",
      "29376.0\n",
      "2000.0\n",
      "5000.0\n",
      "2000.0\n",
      "12000.0\n",
      "40000.0\n",
      "98922.0\n",
      "15500.0\n",
      "455000.0\n",
      "2200.0\n",
      "23900.0\n",
      "30595.0\n",
      "47000.0\n",
      "21000.0\n",
      "35800.0\n",
      "5000.0\n",
      "100000.0\n",
      "5600.0\n",
      "20350.0\n",
      "33000.0\n",
      "51000.0\n",
      "1500.0\n",
      "8200.0\n",
      "4000.0\n",
      "30000.0\n",
      "28000.0\n",
      "26500.0\n",
      "1500.0\n",
      "105000.0\n",
      "16500.0\n",
      "25000.0\n",
      "2000.0\n",
      "14000.0\n",
      "40000.0\n",
      "192500.0\n",
      "3000.0\n",
      "75000.0\n",
      "2500.0\n",
      "13000.0\n",
      "35000.0\n",
      "103000.0\n",
      "10000.0\n",
      "65010.0\n",
      "50000.0\n",
      "113000.0\n",
      "16000.0\n",
      "15000.0\n",
      "11800.0\n",
      "32500.0\n",
      "25100.0\n",
      "182500.0\n",
      "16000.0\n",
      "37100.0\n",
      "0.0\n",
      "95000.0\n",
      "17000.0\n",
      "8000.0\n",
      "61900.0\n",
      "14000.0\n",
      "15000.0\n",
      "6500.0\n",
      "5000.0\n",
      "5550.0\n",
      "500.0\n",
      "13500.0\n",
      "16500.0\n",
      "8000.0\n",
      "49500.0\n",
      "38000.0\n",
      "47000.0\n",
      "10500.0\n",
      "5000.0\n",
      "62000.0\n",
      "212000.0\n",
      "28000.0\n",
      "28900.0\n",
      "9500.0\n",
      "72500.0\n",
      "142000.0\n",
      "22000.0\n",
      "5000.0\n",
      "3500.0\n",
      "20000.0\n",
      "35000.0\n",
      "500.0\n",
      "45000.0\n",
      "30000.0\n",
      "165.0\n",
      "31000.0\n",
      "7000.0\n",
      "29500.0\n",
      "25000.0\n",
      "9500.0\n",
      "30000.0\n",
      "57500.0\n",
      "17000.0\n",
      "17000.0\n",
      "45000.0\n",
      "15500.0\n",
      "47900.0\n",
      "30000.0\n",
      "50500.0\n",
      "20000.0\n",
      "19500.0\n",
      "5900.0\n",
      "30000.0\n",
      "17000.0\n",
      "6500.0\n",
      "5900.0\n",
      "72000.0\n",
      "19650.0\n",
      "18500.0\n",
      "15000.0\n",
      "5100.0\n",
      "32900.0\n",
      "6500.0\n",
      "156250.0\n",
      "4000.0\n",
      "21500.0\n",
      "20000.0\n",
      "23000.0\n",
      "5000.0\n",
      "6500.0\n",
      "29000.0\n",
      "16000.0\n",
      "28000.0\n",
      "185298.0\n",
      "2750.0\n",
      "23900.0\n",
      "40000.0\n",
      "35300.0\n",
      "36000.0\n",
      "1047.0\n",
      "32100.0\n",
      "23950.0\n",
      "33350.0\n",
      "500.0\n",
      "36000.0\n",
      "7900.0\n",
      "13100.0\n",
      "18500.0\n",
      "5000.0\n",
      "18000.0\n",
      "40500.0\n",
      "18959.0\n",
      "12400.0\n",
      "21000.0\n",
      "2500.0\n",
      "117400.0\n",
      "35000.0\n",
      "40500.0\n",
      "137294.0\n",
      "9000.0\n",
      "18400.0\n",
      "21000.0\n",
      "24970.0\n",
      "10529.0\n",
      "9000.0\n",
      "8000.0\n",
      "16100.0\n",
      "13000.0\n",
      "2000.0\n",
      "53000.0\n",
      "34000.0\n",
      "59000.0\n",
      "60000.0\n",
      "5000.0\n",
      "25000.0\n",
      "4500.0\n",
      "3000.0\n",
      "4000.0\n",
      "7000.0\n",
      "6500.0\n",
      "1000.0\n",
      "47000.0\n",
      "1000.0\n",
      "5000.0\n",
      "35000.0\n",
      "23000.0\n",
      "26000.0\n",
      "101600.0\n",
      "5000.0\n",
      "19000.0\n",
      "76000.0\n",
      "17500.0\n",
      "40000.0\n",
      "6000.0\n",
      "36000.0\n",
      "35799.0\n",
      "12900.0\n",
      "2000.0\n",
      "37000.0\n",
      "16000.0\n",
      "4000.0\n",
      "13000.0\n",
      "10000.0\n",
      "35000.0\n",
      "5000.0\n",
      "31000.0\n",
      "2500.0\n",
      "1000.0\n",
      "9000.0\n",
      "20500.0\n",
      "6000.0\n",
      "75500.0\n",
      "65000.0\n",
      "20000.0\n",
      "113000.0\n",
      "45000.0\n",
      "33000.0\n",
      "34000.0\n",
      "71000.0\n",
      "2900.0\n",
      "13000.0\n",
      "115000.0\n",
      "34000.0\n",
      "132500.0\n",
      "112000.0\n",
      "300.0\n",
      "7000.0\n",
      "29500.0\n",
      "30000.0\n",
      "23000.0\n",
      "11500.0\n",
      "16510.0\n",
      "54000.0\n",
      "52500.0\n",
      "0.0\n",
      "6000.0\n",
      "53000.0\n",
      "2500.0\n",
      "15000.0\n",
      "3000.0\n",
      "34000.0\n",
      "42000.0\n",
      "17500.0\n",
      "1000.0\n",
      "7000.0\n",
      "18000.0\n",
      "17500.0\n",
      "25000.0\n",
      "8000.0\n",
      "37500.0\n",
      "6500.0\n",
      "16500.0\n",
      "10000.0\n",
      "7500.0\n",
      "44100.0\n",
      "17000.0\n",
      "38000.0\n",
      "41900.0\n",
      "16000.0\n",
      "100.0\n",
      "178780.0\n",
      "20544.0\n",
      "13163.0\n",
      "24500.0\n",
      "54100.0\n",
      "278000.0\n",
      "1280000.0\n",
      "12500.0\n",
      "32000.0\n",
      "3500.0\n",
      "13250.0\n",
      "60000.0\n",
      "120878.0\n",
      "165000.0\n",
      "31500.0\n",
      "20000.0\n",
      "15350.0\n",
      "10000.0\n",
      "5000.0\n",
      "18000.0\n",
      "41000.0\n",
      "14500.0\n",
      "44000.0\n",
      "71000.0\n",
      "79500.0\n",
      "35000.0\n",
      "56900.0\n",
      "9900.0\n",
      "85000.0\n",
      "37500.0\n",
      "5000.0\n",
      "36121.0\n",
      "2100.0\n",
      "7000.0\n",
      "159000.0\n",
      "325000.0\n",
      "49000.0\n",
      "2500.0\n",
      "r2 after removing outlier 0.46720696481184254\n"
     ]
    }
   ],
   "source": [
    "\n",
    "y_test_arr = np.delete(y_test, 259)\n",
    "print(len(y_test_pred), len(y_test_arr))\n",
    "y_test_arr=np.array(y_test_arr)\n",
    "for idx, val in enumerate(y_test_pred):\n",
    "    print(np.abs(diff[idx]))\n",
    "    if diff[idx] != 0:\n",
    "        y_test_pred[idx] = y_test_pred[idx] + np.log(np.abs(diff[idx]))\n",
    "print('r2 after removing outlier', str(r2_score(y_test_arr,y_test_pred)))"
   ]
  },
  {
   "cell_type": "markdown",
   "id": "4ca05761",
   "metadata": {},
   "source": [
    "#### Here I recognized that an outlier skewed the outcome heavily, as removing said outlier resulted in an improved r2 score over even that of the training score, so I am content with this outcome. I should have removed this outlier from the outset, however, I underestimated the impact it could have on the model."
   ]
  },
  {
   "cell_type": "markdown",
   "id": "a8b8454e",
   "metadata": {},
   "source": [
    "### Gaussian Naive Bayes model"
   ]
  },
  {
   "cell_type": "code",
   "execution_count": 81,
   "id": "1792b5c4",
   "metadata": {},
   "outputs": [
    {
     "name": "stdout",
     "output_type": "stream",
     "text": [
      "r2 for gnb was: -0.5820893370782745\n",
      "132535.3830137732\n",
      "-454960.91584190616\n",
      "-14158.396765164607\n",
      "Number of mislabeled points out of a total %d points : %d 292 291\n"
     ]
    },
    {
     "data": {
      "text/plain": [
       "array([-4.54960916e+05, -3.24964070e+05, -2.77962394e+05, -2.11963207e+05,\n",
       "       -1.92463496e+05, -1.85261611e+05, -1.82463656e+05, -1.78743718e+05,\n",
       "       -1.64964892e+05, -1.58973439e+05, -1.56214122e+05, -1.41964409e+05,\n",
       "       -1.37258510e+05, -1.20844994e+05, -1.17364980e+05, -1.14965042e+05,\n",
       "       -1.12965095e+05, -1.12965095e+05, -1.11965121e+05, -1.04965315e+05,\n",
       "       -1.02965373e+05, -1.01565414e+05, -9.88874937e+04, -9.49656151e+04,\n",
       "       -8.49723991e+04, -7.94664887e+04, -7.59662845e+04, -7.54663043e+04,\n",
       "       -7.49663243e+04, -7.19664467e+04, -7.09664887e+04, -6.49667536e+04,\n",
       "       -6.18669002e+04, -5.99715247e+04, -5.99669937e+04, -5.89670441e+04,\n",
       "       -5.39673098e+04, -5.24673943e+04, -5.09674813e+04, -5.04675108e+04,\n",
       "       -4.99675407e+04, -4.94675708e+04, -4.89619253e+04, -4.78676694e+04,\n",
       "       -4.69677263e+04, -4.69677263e+04, -4.49678567e+04, -4.49678567e+04,\n",
       "       -4.39712543e+04, -4.18680709e+04, -4.09706056e+04, -4.04681728e+04,\n",
       "       -4.04681728e+04, -3.99682101e+04, -3.74659488e+04, -3.69684440e+04,\n",
       "       -3.59685262e+04, -3.52685851e+04, -3.49686107e+04, -3.49686107e+04,\n",
       "       -3.49686107e+04, -3.49686107e+04, -3.39686977e+04, -3.39686977e+04,\n",
       "       -3.39686977e+04, -3.33187556e+04, -3.29687872e+04, -3.28687963e+04,\n",
       "       -3.24688330e+04, -3.09689748e+04, -3.09689748e+04, -2.99690731e+04,\n",
       "       -2.94691236e+04, -2.88691852e+04, -2.79692801e+04, -2.64694453e+04,\n",
       "       -2.44696807e+04, -2.38697551e+04, -2.38697551e+04, -2.29698703e+04,\n",
       "       -2.09701432e+04, -2.09701432e+04, -2.04702155e+04, -2.03202375e+04,\n",
       "       -1.99702895e+04, -1.99702895e+04, -1.99689268e+04, -1.94703655e+04,\n",
       "       -1.89294499e+04, -1.84705234e+04, -1.83705397e+04, -1.79744484e+04,\n",
       "       -1.74706901e+04, -1.74706901e+04, -1.69707771e+04, -1.64708667e+04,\n",
       "       -1.64708667e+04, -1.59709590e+04, -1.59709590e+04, -1.54710542e+04,\n",
       "       -1.53202895e+04, -1.49711526e+04, -1.49711526e+04, -1.39713596e+04,\n",
       "       -1.34714687e+04, -1.32255184e+04, -1.29715819e+04, -1.29715819e+04,\n",
       "       -1.28716051e+04, -1.04722226e+04, -9.97236898e+03, -9.86715285e+03,\n",
       "       -9.47252286e+03, -8.97268506e+03, -8.97268506e+03, -8.17296433e+03,\n",
       "       -7.97303841e+03, -7.97303841e+03, -7.87307615e+03, -7.47323203e+03,\n",
       "       -6.97343900e+03, -6.47366133e+03, -6.47366133e+03, -5.97390146e+03,\n",
       "       -5.97390146e+03, -5.97390146e+03, -5.87395188e+03, -5.87395188e+03,\n",
       "       -5.57410843e+03, -4.97444842e+03, -4.97444842e+03, -4.97444842e+03,\n",
       "       -4.97444842e+03, -4.97444842e+03, -4.96840371e+03, -4.47476450e+03,\n",
       "       -3.97511785e+03, -3.97511785e+03, -2.97598090e+03, -2.87608260e+03,\n",
       "       -2.72624193e+03, -2.47652786e+03, -2.47652786e+03, -1.97719729e+03,\n",
       "       -1.97719729e+03, -1.47806034e+03, -9.79276734e+02, -9.79276734e+02,\n",
       "       -4.81356176e+02, -4.81356176e+02, -1.49682164e+02,  0.00000000e+00,\n",
       "        0.00000000e+00,  1.13815511e+02,  3.17111347e+02,  5.18643824e+02,\n",
       "        1.02072327e+03,  1.02072327e+03,  1.06786105e+03,  1.52193966e+03,\n",
       "        2.02280271e+03,  2.02280271e+03,  2.02280271e+03,  2.13148389e+03,\n",
       "        2.22308864e+03,  2.52347214e+03,  2.52347214e+03,  2.53239873e+03,\n",
       "        3.02401910e+03,  3.02401910e+03,  3.52448155e+03,  3.53112047e+03,\n",
       "        4.02488215e+03,  4.02488215e+03,  5.02555158e+03,  5.02555158e+03,\n",
       "        5.02555158e+03,  5.02555158e+03,  5.02555158e+03,  5.02555158e+03,\n",
       "        5.02763102e+03,  5.12561099e+03,  5.57586466e+03,  6.52633867e+03,\n",
       "        6.52633867e+03,  6.52633867e+03,  6.52633867e+03,  7.02294908e+03,\n",
       "        7.02656100e+03,  7.02656100e+03,  7.02656100e+03,  8.02696159e+03,\n",
       "        8.02696159e+03,  9.02731494e+03,  9.52747714e+03,  1.00276310e+04,\n",
       "        1.00276310e+04,  1.00289166e+04,  1.05567857e+04,  1.15280503e+04,\n",
       "        1.18281276e+04,  1.20281780e+04,  1.24282764e+04,  1.25421871e+04,\n",
       "        1.30284181e+04,  1.30284181e+04,  1.31284411e+04,  1.31914555e+04,\n",
       "        1.40286404e+04,  1.45318640e+04,  1.50288474e+04,  1.50288474e+04,\n",
       "        1.55289458e+04,  1.60290410e+04,  1.60290410e+04,  1.60290410e+04,\n",
       "        1.61290597e+04,  1.65291333e+04,  1.65391352e+04,  1.70292229e+04,\n",
       "        1.70292229e+04,  1.70292229e+04,  1.70292229e+04,  1.75293099e+04,\n",
       "        1.80293944e+04,  1.80293944e+04,  1.85294766e+04,  1.90295566e+04,\n",
       "        1.96796575e+04,  2.00297105e+04,  2.00297105e+04,  2.05737910e+04,\n",
       "        2.10298568e+04,  2.15299274e+04,  2.20299964e+04,  2.30301297e+04,\n",
       "        2.30301297e+04,  2.39802512e+04,  2.50003763e+04,  2.50303799e+04,\n",
       "        2.50303799e+04,  2.50303799e+04,  2.50303799e+04,  2.51303919e+04,\n",
       "        2.60304976e+04,  2.70234721e+04,  2.80307199e+04,  2.80307199e+04,\n",
       "        2.90308252e+04,  2.94068638e+04,  2.95308764e+04,  3.00309269e+04,\n",
       "        3.00309269e+04,  3.00309269e+04,  3.00309269e+04,  3.00309269e+04,\n",
       "        3.06259858e+04,  3.15360411e+04,  3.20283005e+04,  3.21311298e+04,\n",
       "        3.30312128e+04,  3.40313023e+04,  3.50313893e+04,  3.50338505e+04,\n",
       "        3.58304570e+04,  3.58314571e+04,  3.60314738e+04,  3.60314738e+04,\n",
       "        3.61465516e+04,  3.71315641e+04,  3.75315963e+04,  3.80316360e+04,\n",
       "        3.80316360e+04,  4.00317899e+04,  4.00317899e+04,  4.00317899e+04,\n",
       "        4.20319363e+04,  4.41320826e+04,  4.50321433e+04,  4.70322737e+04,\n",
       "        5.30326341e+04,  5.30326341e+04,  5.41326958e+04,  5.69313893e+04,\n",
       "        5.75328786e+04,  6.20331047e+04,  6.50432469e+04,  7.10320758e+04,\n",
       "        7.25335740e+04,  1.00034539e+05,  1.32535383e+05])"
      ]
     },
     "execution_count": 81,
     "metadata": {},
     "output_type": "execute_result"
    }
   ],
   "source": [
    "gnb = GaussianNB()\n",
    "y_pred = gnb.fit(scaled_train_X, y_train).predict(scaled_test_X)\n",
    "print('r2 for gnb was:',str(r2_score(y_test_arr,np.delete(y_pred,259))))\n",
    "diff = np.array(y_test_pred - y_test_arr)\n",
    "print(diff.max())\n",
    "print(diff.min())\n",
    "print(np.mean(diff))\n",
    "mislabeled = []\n",
    "\n",
    "for i in range(0, len(y_test)):\n",
    "    mislabeled.append(y_test[i] != y_train[i])\n",
    "print(\"Number of mislabeled points out of a total %d points : %d\", (scaled_test_X.shape[0]), pd.Series(mislabeled).value_counts()[True])\n",
    "np.sort(diff)"
   ]
  },
  {
   "cell_type": "markdown",
   "id": "e19dcbe3",
   "metadata": {},
   "source": [
    "#### The Gaussian Naive-Bayes model above strongly suggests a dependence of multiple variables, as this model treats variables as completely independent of one another. Below I will select the most strongly correlated variables to the target variable sale price and try again to optimize the outcome."
   ]
  },
  {
   "cell_type": "code",
   "execution_count": 82,
   "id": "39011623",
   "metadata": {
    "scrolled": true
   },
   "outputs": [
    {
     "data": {
      "image/png": "[encoded data removed]",
      "text/plain": [
       "<Figure size 288x288 with 1 Axes>"
      ]
     },
     "metadata": {
      "needs_background": "light"
     },
     "output_type": "display_data"
    },
    {
     "data": {
      "text/html": [
       "<div>\n",
       "<style scoped>\n",
       "    .dataframe tbody tr th:only-of-type {\n",
       "        vertical-align: middle;\n",
       "    }\n",
       "\n",
       "    .dataframe tbody tr th {\n",
       "        vertical-align: top;\n",
       "    }\n",
       "\n",
       "    .dataframe thead th {\n",
       "        text-align: right;\n",
       "    }\n",
       "</style>\n",
       "<table border=\"1\" class=\"dataframe\">\n",
       "  <thead>\n",
       "    <tr style=\"text-align: right;\">\n",
       "      <th></th>\n",
       "      <th>Id</th>\n",
       "      <th>MSSubClass</th>\n",
       "      <th>OverallQual</th>\n",
       "      <th>TotalBsmtSF</th>\n",
       "      <th>GrLivArea</th>\n",
       "      <th>GarageCars</th>\n",
       "      <th>SalePrice</th>\n",
       "      <th>TotalSF</th>\n",
       "      <th>HasPool</th>\n",
       "      <th>YearBuilt</th>\n",
       "    </tr>\n",
       "  </thead>\n",
       "  <tbody>\n",
       "    <tr>\n",
       "      <th>Id</th>\n",
       "      <td>1.000000</td>\n",
       "      <td>0.011156</td>\n",
       "      <td>-0.028365</td>\n",
       "      <td>-0.015415</td>\n",
       "      <td>0.008273</td>\n",
       "      <td>0.013672</td>\n",
       "      <td>-0.009889</td>\n",
       "      <td>-0.000322</td>\n",
       "      <td>0.055511</td>\n",
       "      <td>-0.012713</td>\n",
       "    </tr>\n",
       "    <tr>\n",
       "      <th>MSSubClass</th>\n",
       "      <td>0.011156</td>\n",
       "      <td>1.000000</td>\n",
       "      <td>0.032628</td>\n",
       "      <td>-0.238518</td>\n",
       "      <td>0.074853</td>\n",
       "      <td>-0.044390</td>\n",
       "      <td>-0.066780</td>\n",
       "      <td>-0.082225</td>\n",
       "      <td>0.008610</td>\n",
       "      <td>0.027850</td>\n",
       "    </tr>\n",
       "    <tr>\n",
       "      <th>OverallQual</th>\n",
       "      <td>-0.028365</td>\n",
       "      <td>0.032628</td>\n",
       "      <td>1.000000</td>\n",
       "      <td>0.537808</td>\n",
       "      <td>0.593007</td>\n",
       "      <td>0.609512</td>\n",
       "      <td>0.702909</td>\n",
       "      <td>0.668155</td>\n",
       "      <td>0.073907</td>\n",
       "      <td>0.572323</td>\n",
       "    </tr>\n",
       "    <tr>\n",
       "      <th>TotalBsmtSF</th>\n",
       "      <td>-0.015415</td>\n",
       "      <td>-0.238518</td>\n",
       "      <td>0.537808</td>\n",
       "      <td>1.000000</td>\n",
       "      <td>0.454868</td>\n",
       "      <td>0.437908</td>\n",
       "      <td>0.669013</td>\n",
       "      <td>0.826742</td>\n",
       "      <td>0.151236</td>\n",
       "      <td>0.391452</td>\n",
       "    </tr>\n",
       "    <tr>\n",
       "      <th>GrLivArea</th>\n",
       "      <td>0.008273</td>\n",
       "      <td>0.074853</td>\n",
       "      <td>0.593007</td>\n",
       "      <td>0.454868</td>\n",
       "      <td>1.000000</td>\n",
       "      <td>0.469594</td>\n",
       "      <td>0.723989</td>\n",
       "      <td>0.874373</td>\n",
       "      <td>0.189397</td>\n",
       "      <td>0.199010</td>\n",
       "    </tr>\n",
       "    <tr>\n",
       "      <th>GarageCars</th>\n",
       "      <td>0.013672</td>\n",
       "      <td>-0.044390</td>\n",
       "      <td>0.609512</td>\n",
       "      <td>0.437908</td>\n",
       "      <td>0.469594</td>\n",
       "      <td>1.000000</td>\n",
       "      <td>0.547258</td>\n",
       "      <td>0.539715</td>\n",
       "      <td>0.022192</td>\n",
       "      <td>0.546073</td>\n",
       "    </tr>\n",
       "    <tr>\n",
       "      <th>SalePrice</th>\n",
       "      <td>-0.009889</td>\n",
       "      <td>-0.066780</td>\n",
       "      <td>0.702909</td>\n",
       "      <td>0.669013</td>\n",
       "      <td>0.723989</td>\n",
       "      <td>0.547258</td>\n",
       "      <td>1.000000</td>\n",
       "      <td>0.821549</td>\n",
       "      <td>0.220364</td>\n",
       "      <td>0.450210</td>\n",
       "    </tr>\n",
       "    <tr>\n",
       "      <th>TotalSF</th>\n",
       "      <td>-0.000322</td>\n",
       "      <td>-0.082225</td>\n",
       "      <td>0.668155</td>\n",
       "      <td>0.826742</td>\n",
       "      <td>0.874373</td>\n",
       "      <td>0.539715</td>\n",
       "      <td>0.821549</td>\n",
       "      <td>1.000000</td>\n",
       "      <td>0.197624</td>\n",
       "      <td>0.347133</td>\n",
       "    </tr>\n",
       "    <tr>\n",
       "      <th>HasPool</th>\n",
       "      <td>0.055511</td>\n",
       "      <td>0.008610</td>\n",
       "      <td>0.073907</td>\n",
       "      <td>0.151236</td>\n",
       "      <td>0.189397</td>\n",
       "      <td>0.022192</td>\n",
       "      <td>0.220364</td>\n",
       "      <td>0.197624</td>\n",
       "      <td>1.000000</td>\n",
       "      <td>0.005953</td>\n",
       "    </tr>\n",
       "    <tr>\n",
       "      <th>YearBuilt</th>\n",
       "      <td>-0.012713</td>\n",
       "      <td>0.027850</td>\n",
       "      <td>0.572323</td>\n",
       "      <td>0.391452</td>\n",
       "      <td>0.199010</td>\n",
       "      <td>0.546073</td>\n",
       "      <td>0.450210</td>\n",
       "      <td>0.347133</td>\n",
       "      <td>0.005953</td>\n",
       "      <td>1.000000</td>\n",
       "    </tr>\n",
       "  </tbody>\n",
       "</table>\n",
       "</div>"
      ],
      "text/plain": [
       "                   Id  MSSubClass  OverallQual  TotalBsmtSF  GrLivArea  \\\n",
       "Id           1.000000    0.011156    -0.028365    -0.015415   0.008273   \n",
       "MSSubClass   0.011156    1.000000     0.032628    -0.238518   0.074853   \n",
       "OverallQual -0.028365    0.032628     1.000000     0.537808   0.593007   \n",
       "TotalBsmtSF -0.015415   -0.238518     0.537808     1.000000   0.454868   \n",
       "GrLivArea    0.008273    0.074853     0.593007     0.454868   1.000000   \n",
       "GarageCars   0.013672   -0.044390     0.609512     0.437908   0.469594   \n",
       "SalePrice   -0.009889   -0.066780     0.702909     0.669013   0.723989   \n",
       "TotalSF     -0.000322   -0.082225     0.668155     0.826742   0.874373   \n",
       "HasPool      0.055511    0.008610     0.073907     0.151236   0.189397   \n",
       "YearBuilt   -0.012713    0.027850     0.572323     0.391452   0.199010   \n",
       "\n",
       "             GarageCars  SalePrice   TotalSF   HasPool  YearBuilt  \n",
       "Id             0.013672  -0.009889 -0.000322  0.055511  -0.012713  \n",
       "MSSubClass    -0.044390  -0.066780 -0.082225  0.008610   0.027850  \n",
       "OverallQual    0.609512   0.702909  0.668155  0.073907   0.572323  \n",
       "TotalBsmtSF    0.437908   0.669013  0.826742  0.151236   0.391452  \n",
       "GrLivArea      0.469594   0.723989  0.874373  0.189397   0.199010  \n",
       "GarageCars     1.000000   0.547258  0.539715  0.022192   0.546073  \n",
       "SalePrice      0.547258   1.000000  0.821549  0.220364   0.450210  \n",
       "TotalSF        0.539715   0.821549  1.000000  0.197624   0.347133  \n",
       "HasPool        0.022192   0.220364  0.197624  1.000000   0.005953  \n",
       "YearBuilt      0.546073   0.450210  0.347133  0.005953   1.000000  "
      ]
     },
     "execution_count": 82,
     "metadata": {},
     "output_type": "execute_result"
    }
   ],
   "source": [
    "# run correlation matrix to find best fit variables\n",
    "plt.matshow(df.corr())\n",
    "plt.show()\n",
    "df.corr()"
   ]
  },
  {
   "cell_type": "code",
   "execution_count": 83,
   "id": "b4cd5856",
   "metadata": {},
   "outputs": [
    {
     "name": "stdout",
     "output_type": "stream",
     "text": [
      "r2 for gnb was: 0.6002184071716185\n"
     ]
    }
   ],
   "source": [
    "X=df[['TotalSF','GrLivArea']].to_numpy()\n",
    "df_train_X, df_test_X, df_train_y, df_test_y = train_test_split(X, df['SalePrice'].to_numpy(),test_size=.2)\n",
    "y_pred = gnb.fit(df_train_X, df_train_y).predict(df_test_X)\n",
    "print('r2 for gnb was:',str(r2_score(df_test_y,y_pred)))"
   ]
  },
  {
   "cell_type": "markdown",
   "id": "cd430c23",
   "metadata": {},
   "source": [
    "#### Here I was able to make a considerable improvement by using only the two most strongly correlated variables,"
   ]
  },
  {
   "cell_type": "markdown",
   "id": "076a3c0c",
   "metadata": {},
   "source": [
    "### Random Forest model"
   ]
  },
  {
   "cell_type": "code",
   "execution_count": 84,
   "id": "7c78db0c",
   "metadata": {},
   "outputs": [
    {
     "name": "stdout",
     "output_type": "stream",
     "text": [
      "-0.5613844108534563\n"
     ]
    }
   ],
   "source": [
    "clf = RandomForestClassifier(max_depth=2, random_state=1234)\n",
    "clf.fit(scaled_train_X, y_train)\n",
    "y_pred = clf.predict(scaled_test_X)\n",
    "print(r2_score(np.delete(y_test,259), np.delete(y_pred, 259)))"
   ]
  },
  {
   "cell_type": "markdown",
   "id": "885d9848",
   "metadata": {},
   "source": [
    "### Hyperparameter tuning with RandomizedSearchCV"
   ]
  },
  {
   "cell_type": "code",
   "execution_count": 85,
   "id": "09f3e362",
   "metadata": {},
   "outputs": [
    {
     "name": "stderr",
     "output_type": "stream",
     "text": [
      "/Users/skdod/opt/anaconda3/lib/python3.9/site-packages/sklearn/model_selection/_split.py:666: UserWarning: The least populated class in y has only 1 members, which is less than n_splits=5.\n",
      "  warnings.warn((\"The least populated class in y has only %d\"\n",
      "/Users/skdod/opt/anaconda3/lib/python3.9/site-packages/sklearn/model_selection/_validation.py:615: FitFailedWarning: Estimator fit failed. The score on this train-test partition for these parameters will be set to nan. Details: \n",
      "Traceback (most recent call last):\n",
      "  File \"/Users/skdod/opt/anaconda3/lib/python3.9/site-packages/sklearn/model_selection/_validation.py\", line 598, in _fit_and_score\n",
      "    estimator.fit(X_train, y_train, **fit_params)\n",
      "  File \"/Users/skdod/opt/anaconda3/lib/python3.9/site-packages/sklearn/ensemble/_forest.py\", line 387, in fit\n",
      "    trees = Parallel(n_jobs=self.n_jobs, verbose=self.verbose,\n",
      "  File \"/Users/skdod/opt/anaconda3/lib/python3.9/site-packages/joblib/parallel.py\", line 1041, in __call__\n",
      "    if self.dispatch_one_batch(iterator):\n",
      "  File \"/Users/skdod/opt/anaconda3/lib/python3.9/site-packages/joblib/parallel.py\", line 859, in dispatch_one_batch\n",
      "    self._dispatch(tasks)\n",
      "  File \"/Users/skdod/opt/anaconda3/lib/python3.9/site-packages/joblib/parallel.py\", line 777, in _dispatch\n",
      "    job = self._backend.apply_async(batch, callback=cb)\n",
      "  File \"/Users/skdod/opt/anaconda3/lib/python3.9/site-packages/joblib/_parallel_backends.py\", line 208, in apply_async\n",
      "    result = ImmediateResult(func)\n",
      "  File \"/Users/skdod/opt/anaconda3/lib/python3.9/site-packages/joblib/_parallel_backends.py\", line 572, in __init__\n",
      "    self.results = batch()\n",
      "  File \"/Users/skdod/opt/anaconda3/lib/python3.9/site-packages/joblib/parallel.py\", line 262, in __call__\n",
      "    return [func(*args, **kwargs)\n",
      "  File \"/Users/skdod/opt/anaconda3/lib/python3.9/site-packages/joblib/parallel.py\", line 262, in <listcomp>\n",
      "    return [func(*args, **kwargs)\n",
      "  File \"/Users/skdod/opt/anaconda3/lib/python3.9/site-packages/sklearn/utils/fixes.py\", line 222, in __call__\n",
      "    return self.function(*args, **kwargs)\n",
      "  File \"/Users/skdod/opt/anaconda3/lib/python3.9/site-packages/sklearn/ensemble/_forest.py\", line 169, in _parallel_build_trees\n",
      "    tree.fit(X, y, sample_weight=curr_sample_weight, check_input=False)\n",
      "  File \"/Users/skdod/opt/anaconda3/lib/python3.9/site-packages/sklearn/tree/_classes.py\", line 903, in fit\n",
      "    super().fit(\n",
      "  File \"/Users/skdod/opt/anaconda3/lib/python3.9/site-packages/sklearn/tree/_classes.py\", line 287, in fit\n",
      "    raise ValueError(\"max_depth must be greater than zero. \")\n",
      "ValueError: max_depth must be greater than zero. \n",
      "\n",
      "  warnings.warn(\"Estimator fit failed. The score on this train-test\"\n",
      "/Users/skdod/opt/anaconda3/lib/python3.9/site-packages/sklearn/model_selection/_validation.py:615: FitFailedWarning: Estimator fit failed. The score on this train-test partition for these parameters will be set to nan. Details: \n",
      "Traceback (most recent call last):\n",
      "  File \"/Users/skdod/opt/anaconda3/lib/python3.9/site-packages/sklearn/model_selection/_validation.py\", line 598, in _fit_and_score\n",
      "    estimator.fit(X_train, y_train, **fit_params)\n",
      "  File \"/Users/skdod/opt/anaconda3/lib/python3.9/site-packages/sklearn/ensemble/_forest.py\", line 387, in fit\n",
      "    trees = Parallel(n_jobs=self.n_jobs, verbose=self.verbose,\n",
      "  File \"/Users/skdod/opt/anaconda3/lib/python3.9/site-packages/joblib/parallel.py\", line 1041, in __call__\n",
      "    if self.dispatch_one_batch(iterator):\n",
      "  File \"/Users/skdod/opt/anaconda3/lib/python3.9/site-packages/joblib/parallel.py\", line 859, in dispatch_one_batch\n",
      "    self._dispatch(tasks)\n",
      "  File \"/Users/skdod/opt/anaconda3/lib/python3.9/site-packages/joblib/parallel.py\", line 777, in _dispatch\n",
      "    job = self._backend.apply_async(batch, callback=cb)\n",
      "  File \"/Users/skdod/opt/anaconda3/lib/python3.9/site-packages/joblib/_parallel_backends.py\", line 208, in apply_async\n",
      "    result = ImmediateResult(func)\n",
      "  File \"/Users/skdod/opt/anaconda3/lib/python3.9/site-packages/joblib/_parallel_backends.py\", line 572, in __init__\n",
      "    self.results = batch()\n",
      "  File \"/Users/skdod/opt/anaconda3/lib/python3.9/site-packages/joblib/parallel.py\", line 262, in __call__\n",
      "    return [func(*args, **kwargs)\n",
      "  File \"/Users/skdod/opt/anaconda3/lib/python3.9/site-packages/joblib/parallel.py\", line 262, in <listcomp>\n",
      "    return [func(*args, **kwargs)\n",
      "  File \"/Users/skdod/opt/anaconda3/lib/python3.9/site-packages/sklearn/utils/fixes.py\", line 222, in __call__\n",
      "    return self.function(*args, **kwargs)\n",
      "  File \"/Users/skdod/opt/anaconda3/lib/python3.9/site-packages/sklearn/ensemble/_forest.py\", line 169, in _parallel_build_trees\n",
      "    tree.fit(X, y, sample_weight=curr_sample_weight, check_input=False)\n",
      "  File \"/Users/skdod/opt/anaconda3/lib/python3.9/site-packages/sklearn/tree/_classes.py\", line 903, in fit\n",
      "    super().fit(\n",
      "  File \"/Users/skdod/opt/anaconda3/lib/python3.9/site-packages/sklearn/tree/_classes.py\", line 287, in fit\n",
      "    raise ValueError(\"max_depth must be greater than zero. \")\n",
      "ValueError: max_depth must be greater than zero. \n",
      "\n",
      "  warnings.warn(\"Estimator fit failed. The score on this train-test\"\n",
      "/Users/skdod/opt/anaconda3/lib/python3.9/site-packages/sklearn/model_selection/_validation.py:615: FitFailedWarning: Estimator fit failed. The score on this train-test partition for these parameters will be set to nan. Details: \n",
      "Traceback (most recent call last):\n",
      "  File \"/Users/skdod/opt/anaconda3/lib/python3.9/site-packages/sklearn/model_selection/_validation.py\", line 598, in _fit_and_score\n",
      "    estimator.fit(X_train, y_train, **fit_params)\n",
      "  File \"/Users/skdod/opt/anaconda3/lib/python3.9/site-packages/sklearn/ensemble/_forest.py\", line 387, in fit\n",
      "    trees = Parallel(n_jobs=self.n_jobs, verbose=self.verbose,\n",
      "  File \"/Users/skdod/opt/anaconda3/lib/python3.9/site-packages/joblib/parallel.py\", line 1041, in __call__\n",
      "    if self.dispatch_one_batch(iterator):\n",
      "  File \"/Users/skdod/opt/anaconda3/lib/python3.9/site-packages/joblib/parallel.py\", line 859, in dispatch_one_batch\n",
      "    self._dispatch(tasks)\n",
      "  File \"/Users/skdod/opt/anaconda3/lib/python3.9/site-packages/joblib/parallel.py\", line 777, in _dispatch\n",
      "    job = self._backend.apply_async(batch, callback=cb)\n",
      "  File \"/Users/skdod/opt/anaconda3/lib/python3.9/site-packages/joblib/_parallel_backends.py\", line 208, in apply_async\n",
      "    result = ImmediateResult(func)\n",
      "  File \"/Users/skdod/opt/anaconda3/lib/python3.9/site-packages/joblib/_parallel_backends.py\", line 572, in __init__\n",
      "    self.results = batch()\n",
      "  File \"/Users/skdod/opt/anaconda3/lib/python3.9/site-packages/joblib/parallel.py\", line 262, in __call__\n",
      "    return [func(*args, **kwargs)\n",
      "  File \"/Users/skdod/opt/anaconda3/lib/python3.9/site-packages/joblib/parallel.py\", line 262, in <listcomp>\n",
      "    return [func(*args, **kwargs)\n",
      "  File \"/Users/skdod/opt/anaconda3/lib/python3.9/site-packages/sklearn/utils/fixes.py\", line 222, in __call__\n",
      "    return self.function(*args, **kwargs)\n",
      "  File \"/Users/skdod/opt/anaconda3/lib/python3.9/site-packages/sklearn/ensemble/_forest.py\", line 169, in _parallel_build_trees\n",
      "    tree.fit(X, y, sample_weight=curr_sample_weight, check_input=False)\n",
      "  File \"/Users/skdod/opt/anaconda3/lib/python3.9/site-packages/sklearn/tree/_classes.py\", line 903, in fit\n",
      "    super().fit(\n",
      "  File \"/Users/skdod/opt/anaconda3/lib/python3.9/site-packages/sklearn/tree/_classes.py\", line 287, in fit\n",
      "    raise ValueError(\"max_depth must be greater than zero. \")\n",
      "ValueError: max_depth must be greater than zero. \n",
      "\n",
      "  warnings.warn(\"Estimator fit failed. The score on this train-test\"\n",
      "/Users/skdod/opt/anaconda3/lib/python3.9/site-packages/sklearn/model_selection/_validation.py:615: FitFailedWarning: Estimator fit failed. The score on this train-test partition for these parameters will be set to nan. Details: \n",
      "Traceback (most recent call last):\n",
      "  File \"/Users/skdod/opt/anaconda3/lib/python3.9/site-packages/sklearn/model_selection/_validation.py\", line 598, in _fit_and_score\n",
      "    estimator.fit(X_train, y_train, **fit_params)\n",
      "  File \"/Users/skdod/opt/anaconda3/lib/python3.9/site-packages/sklearn/ensemble/_forest.py\", line 387, in fit\n",
      "    trees = Parallel(n_jobs=self.n_jobs, verbose=self.verbose,\n",
      "  File \"/Users/skdod/opt/anaconda3/lib/python3.9/site-packages/joblib/parallel.py\", line 1041, in __call__\n",
      "    if self.dispatch_one_batch(iterator):\n",
      "  File \"/Users/skdod/opt/anaconda3/lib/python3.9/site-packages/joblib/parallel.py\", line 859, in dispatch_one_batch\n",
      "    self._dispatch(tasks)\n",
      "  File \"/Users/skdod/opt/anaconda3/lib/python3.9/site-packages/joblib/parallel.py\", line 777, in _dispatch\n",
      "    job = self._backend.apply_async(batch, callback=cb)\n",
      "  File \"/Users/skdod/opt/anaconda3/lib/python3.9/site-packages/joblib/_parallel_backends.py\", line 208, in apply_async\n",
      "    result = ImmediateResult(func)\n",
      "  File \"/Users/skdod/opt/anaconda3/lib/python3.9/site-packages/joblib/_parallel_backends.py\", line 572, in __init__\n",
      "    self.results = batch()\n",
      "  File \"/Users/skdod/opt/anaconda3/lib/python3.9/site-packages/joblib/parallel.py\", line 262, in __call__\n",
      "    return [func(*args, **kwargs)\n",
      "  File \"/Users/skdod/opt/anaconda3/lib/python3.9/site-packages/joblib/parallel.py\", line 262, in <listcomp>\n",
      "    return [func(*args, **kwargs)\n",
      "  File \"/Users/skdod/opt/anaconda3/lib/python3.9/site-packages/sklearn/utils/fixes.py\", line 222, in __call__\n",
      "    return self.function(*args, **kwargs)\n",
      "  File \"/Users/skdod/opt/anaconda3/lib/python3.9/site-packages/sklearn/ensemble/_forest.py\", line 169, in _parallel_build_trees\n",
      "    tree.fit(X, y, sample_weight=curr_sample_weight, check_input=False)\n",
      "  File \"/Users/skdod/opt/anaconda3/lib/python3.9/site-packages/sklearn/tree/_classes.py\", line 903, in fit\n",
      "    super().fit(\n",
      "  File \"/Users/skdod/opt/anaconda3/lib/python3.9/site-packages/sklearn/tree/_classes.py\", line 287, in fit\n",
      "    raise ValueError(\"max_depth must be greater than zero. \")\n",
      "ValueError: max_depth must be greater than zero. \n",
      "\n",
      "  warnings.warn(\"Estimator fit failed. The score on this train-test\"\n",
      "/Users/skdod/opt/anaconda3/lib/python3.9/site-packages/sklearn/model_selection/_validation.py:615: FitFailedWarning: Estimator fit failed. The score on this train-test partition for these parameters will be set to nan. Details: \n",
      "Traceback (most recent call last):\n",
      "  File \"/Users/skdod/opt/anaconda3/lib/python3.9/site-packages/sklearn/model_selection/_validation.py\", line 598, in _fit_and_score\n",
      "    estimator.fit(X_train, y_train, **fit_params)\n",
      "  File \"/Users/skdod/opt/anaconda3/lib/python3.9/site-packages/sklearn/ensemble/_forest.py\", line 387, in fit\n",
      "    trees = Parallel(n_jobs=self.n_jobs, verbose=self.verbose,\n",
      "  File \"/Users/skdod/opt/anaconda3/lib/python3.9/site-packages/joblib/parallel.py\", line 1041, in __call__\n",
      "    if self.dispatch_one_batch(iterator):\n",
      "  File \"/Users/skdod/opt/anaconda3/lib/python3.9/site-packages/joblib/parallel.py\", line 859, in dispatch_one_batch\n",
      "    self._dispatch(tasks)\n",
      "  File \"/Users/skdod/opt/anaconda3/lib/python3.9/site-packages/joblib/parallel.py\", line 777, in _dispatch\n",
      "    job = self._backend.apply_async(batch, callback=cb)\n",
      "  File \"/Users/skdod/opt/anaconda3/lib/python3.9/site-packages/joblib/_parallel_backends.py\", line 208, in apply_async\n",
      "    result = ImmediateResult(func)\n",
      "  File \"/Users/skdod/opt/anaconda3/lib/python3.9/site-packages/joblib/_parallel_backends.py\", line 572, in __init__\n",
      "    self.results = batch()\n",
      "  File \"/Users/skdod/opt/anaconda3/lib/python3.9/site-packages/joblib/parallel.py\", line 262, in __call__\n",
      "    return [func(*args, **kwargs)\n",
      "  File \"/Users/skdod/opt/anaconda3/lib/python3.9/site-packages/joblib/parallel.py\", line 262, in <listcomp>\n",
      "    return [func(*args, **kwargs)\n",
      "  File \"/Users/skdod/opt/anaconda3/lib/python3.9/site-packages/sklearn/utils/fixes.py\", line 222, in __call__\n",
      "    return self.function(*args, **kwargs)\n",
      "  File \"/Users/skdod/opt/anaconda3/lib/python3.9/site-packages/sklearn/ensemble/_forest.py\", line 169, in _parallel_build_trees\n",
      "    tree.fit(X, y, sample_weight=curr_sample_weight, check_input=False)\n",
      "  File \"/Users/skdod/opt/anaconda3/lib/python3.9/site-packages/sklearn/tree/_classes.py\", line 903, in fit\n",
      "    super().fit(\n",
      "  File \"/Users/skdod/opt/anaconda3/lib/python3.9/site-packages/sklearn/tree/_classes.py\", line 287, in fit\n",
      "    raise ValueError(\"max_depth must be greater than zero. \")\n",
      "ValueError: max_depth must be greater than zero. \n",
      "\n",
      "  warnings.warn(\"Estimator fit failed. The score on this train-test\"\n"
     ]
    },
    {
     "name": "stderr",
     "output_type": "stream",
     "text": [
      "/Users/skdod/opt/anaconda3/lib/python3.9/site-packages/sklearn/model_selection/_search.py:922: UserWarning: One or more of the test scores are non-finite: [ 0.69014137 -0.48034562  0.50847298  0.21199146  0.47080294         nan\n",
      "  0.27052979 -0.0964236   0.22964721  0.67337917]\n",
      "  warnings.warn(\n"
     ]
    },
    {
     "name": "stdout",
     "output_type": "stream",
     "text": [
      "{'random_state': 1234, 'n_estimators': 200, 'max_depth': 9}\n",
      "0.6901413684245113\n"
     ]
    }
   ],
   "source": [
    "model = RandomForestClassifier()\n",
    "distributions = dict(max_depth=range(0,15),n_estimators=[1,2,3,4,5,8,15,27,42,70,100,200], random_state=[1234])\n",
    "clf = RandomizedSearchCV(model, distributions, scoring=\"r2\")\n",
    "search = clf.fit(scaled_train_X, y_train)\n",
    "print(search.best_params_)\n",
    "print(search.best_score_)"
   ]
  },
  {
   "cell_type": "code",
   "execution_count": 86,
   "id": "1f861709",
   "metadata": {},
   "outputs": [],
   "source": [
    "clf = RandomForestClassifier(max_depth=11, n_estimators=70,random_state=1234)\n",
    "clf.fit(scaled_train_X, y_train)\n",
    "y_pred = clf.predict(scaled_test_X)"
   ]
  },
  {
   "cell_type": "code",
   "execution_count": 87,
   "id": "e33379fc",
   "metadata": {
    "scrolled": false
   },
   "outputs": [
    {
     "name": "stdout",
     "output_type": "stream",
     "text": [
      "0.7173948804280998\n"
     ]
    }
   ],
   "source": [
    "print(r2_score(np.delete(y_test,259), np.delete(y_pred, 259)))"
   ]
  },
  {
   "cell_type": "markdown",
   "id": "b194f444",
   "metadata": {},
   "source": [
    "#### The RandomForestClassifier is the better model, with an r2 of about 1 tenth higher than the SVM model."
   ]
  },
  {
   "cell_type": "code",
   "execution_count": 88,
   "id": "b2f0c7fe",
   "metadata": {},
   "outputs": [
    {
     "name": "stdout",
     "output_type": "stream",
     "text": [
      "-176081.0 307000.0 -1705.274914089347\n"
     ]
    }
   ],
   "source": [
    "diff = np.array(np.delete(y_pred,259)- np.array(np.delete(y_test,259)))\n",
    "print(diff.min(), diff.max(), np.mean(diff))"
   ]
  },
  {
   "cell_type": "code",
   "execution_count": 98,
   "id": "aacb7efe",
   "metadata": {},
   "outputs": [
    {
     "name": "stderr",
     "output_type": "stream",
     "text": [
      "/var/folders/qp/hgh__lqs1dz1wk35m_9mqmn40000gn/T/ipykernel_49194/1546075334.py:3: RuntimeWarning: divide by zero encountered in log\n",
      "  plt.plot(np.log(diff+np.abs(np.min(diff))), c='blue', alpha=.4)\n"
     ]
    },
    {
     "data": {
      "image/png": "[encoded data removed]",
      "text/plain": [
       "<Figure size 432x288 with 1 Axes>"
      ]
     },
     "metadata": {
      "needs_background": "light"
     },
     "output_type": "display_data"
    },
    {
     "data": {
      "image/png": "[encoded data removed]",
      "text/plain": [
       "<Figure size 432x288 with 1 Axes>"
      ]
     },
     "metadata": {
      "needs_background": "light"
     },
     "output_type": "display_data"
    },
    {
     "ename": "KeyError",
     "evalue": "'LotArea'",
     "output_type": "error",
     "traceback": [
      "\u001b[0;31m---------------------------------------------------------------------------\u001b[0m",
      "\u001b[0;31mKeyError\u001b[0m                                  Traceback (most recent call last)",
      "\u001b[0;32m~/opt/anaconda3/lib/python3.9/site-packages/pandas/core/indexes/base.py\u001b[0m in \u001b[0;36mget_loc\u001b[0;34m(self, key, method, tolerance)\u001b[0m\n\u001b[1;32m   3360\u001b[0m             \u001b[0;32mtry\u001b[0m\u001b[0;34m:\u001b[0m\u001b[0;34m\u001b[0m\u001b[0;34m\u001b[0m\u001b[0m\n\u001b[0;32m-> 3361\u001b[0;31m                 \u001b[0;32mreturn\u001b[0m \u001b[0mself\u001b[0m\u001b[0;34m.\u001b[0m\u001b[0m_engine\u001b[0m\u001b[0;34m.\u001b[0m\u001b[0mget_loc\u001b[0m\u001b[0;34m(\u001b[0m\u001b[0mcasted_key\u001b[0m\u001b[0;34m)\u001b[0m\u001b[0;34m\u001b[0m\u001b[0;34m\u001b[0m\u001b[0m\n\u001b[0m\u001b[1;32m   3362\u001b[0m             \u001b[0;32mexcept\u001b[0m \u001b[0mKeyError\u001b[0m \u001b[0;32mas\u001b[0m \u001b[0merr\u001b[0m\u001b[0;34m:\u001b[0m\u001b[0;34m\u001b[0m\u001b[0;34m\u001b[0m\u001b[0m\n",
      "\u001b[0;32m~/opt/anaconda3/lib/python3.9/site-packages/pandas/_libs/index.pyx\u001b[0m in \u001b[0;36mpandas._libs.index.IndexEngine.get_loc\u001b[0;34m()\u001b[0m\n",
      "\u001b[0;32m~/opt/anaconda3/lib/python3.9/site-packages/pandas/_libs/index.pyx\u001b[0m in \u001b[0;36mpandas._libs.index.IndexEngine.get_loc\u001b[0;34m()\u001b[0m\n",
      "\u001b[0;32mpandas/_libs/hashtable_class_helper.pxi\u001b[0m in \u001b[0;36mpandas._libs.hashtable.PyObjectHashTable.get_item\u001b[0;34m()\u001b[0m\n",
      "\u001b[0;32mpandas/_libs/hashtable_class_helper.pxi\u001b[0m in \u001b[0;36mpandas._libs.hashtable.PyObjectHashTable.get_item\u001b[0;34m()\u001b[0m\n",
      "\u001b[0;31mKeyError\u001b[0m: 'LotArea'",
      "\nThe above exception was the direct cause of the following exception:\n",
      "\u001b[0;31mKeyError\u001b[0m                                  Traceback (most recent call last)",
      "\u001b[0;32m/var/folders/qp/hgh__lqs1dz1wk35m_9mqmn40000gn/T/ipykernel_49194/1546075334.py\u001b[0m in \u001b[0;36m<module>\u001b[0;34m\u001b[0m\n\u001b[1;32m      6\u001b[0m \u001b[0mbx\u001b[0m \u001b[0;34m=\u001b[0m \u001b[0mplt\u001b[0m\u001b[0;34m.\u001b[0m\u001b[0mhist\u001b[0m\u001b[0;34m(\u001b[0m\u001b[0mnp\u001b[0m\u001b[0;34m.\u001b[0m\u001b[0mhistogram\u001b[0m\u001b[0;34m(\u001b[0m\u001b[0mnp\u001b[0m\u001b[0;34m.\u001b[0m\u001b[0mdelete\u001b[0m\u001b[0;34m(\u001b[0m\u001b[0my_pred\u001b[0m\u001b[0;34m,\u001b[0m\u001b[0;36m259\u001b[0m\u001b[0;34m)\u001b[0m\u001b[0;34m,\u001b[0m \u001b[0mbins\u001b[0m\u001b[0;34m=\u001b[0m\u001b[0;36m30\u001b[0m\u001b[0;34m)\u001b[0m\u001b[0;34m[\u001b[0m\u001b[0;36m0\u001b[0m\u001b[0;34m]\u001b[0m\u001b[0;34m,\u001b[0m \u001b[0mhisttype\u001b[0m\u001b[0;34m=\u001b[0m\u001b[0;34m'step'\u001b[0m\u001b[0;34m,\u001b[0m\u001b[0mdensity\u001b[0m\u001b[0;34m=\u001b[0m\u001b[0;32mTrue\u001b[0m\u001b[0;34m)\u001b[0m\u001b[0;34m\u001b[0m\u001b[0;34m\u001b[0m\u001b[0m\n\u001b[1;32m      7\u001b[0m \u001b[0mplt\u001b[0m\u001b[0;34m.\u001b[0m\u001b[0mshow\u001b[0m\u001b[0;34m(\u001b[0m\u001b[0;34m)\u001b[0m\u001b[0;34m\u001b[0m\u001b[0;34m\u001b[0m\u001b[0m\n\u001b[0;32m----> 8\u001b[0;31m \u001b[0mpd\u001b[0m\u001b[0;34m.\u001b[0m\u001b[0mDataFrame\u001b[0m\u001b[0;34m(\u001b[0m\u001b[0mdf\u001b[0m\u001b[0;34m[\u001b[0m\u001b[0;34m'LotArea'\u001b[0m\u001b[0;34m]\u001b[0m\u001b[0;34m.\u001b[0m\u001b[0mdescribe\u001b[0m\u001b[0;34m(\u001b[0m\u001b[0;34m)\u001b[0m\u001b[0;34m)\u001b[0m\u001b[0;34m\u001b[0m\u001b[0;34m\u001b[0m\u001b[0m\n\u001b[0m",
      "\u001b[0;32m~/opt/anaconda3/lib/python3.9/site-packages/pandas/core/frame.py\u001b[0m in \u001b[0;36m__getitem__\u001b[0;34m(self, key)\u001b[0m\n\u001b[1;32m   3456\u001b[0m             \u001b[0;32mif\u001b[0m \u001b[0mself\u001b[0m\u001b[0;34m.\u001b[0m\u001b[0mcolumns\u001b[0m\u001b[0;34m.\u001b[0m\u001b[0mnlevels\u001b[0m \u001b[0;34m>\u001b[0m \u001b[0;36m1\u001b[0m\u001b[0;34m:\u001b[0m\u001b[0;34m\u001b[0m\u001b[0;34m\u001b[0m\u001b[0m\n\u001b[1;32m   3457\u001b[0m                 \u001b[0;32mreturn\u001b[0m \u001b[0mself\u001b[0m\u001b[0;34m.\u001b[0m\u001b[0m_getitem_multilevel\u001b[0m\u001b[0;34m(\u001b[0m\u001b[0mkey\u001b[0m\u001b[0;34m)\u001b[0m\u001b[0;34m\u001b[0m\u001b[0;34m\u001b[0m\u001b[0m\n\u001b[0;32m-> 3458\u001b[0;31m             \u001b[0mindexer\u001b[0m \u001b[0;34m=\u001b[0m \u001b[0mself\u001b[0m\u001b[0;34m.\u001b[0m\u001b[0mcolumns\u001b[0m\u001b[0;34m.\u001b[0m\u001b[0mget_loc\u001b[0m\u001b[0;34m(\u001b[0m\u001b[0mkey\u001b[0m\u001b[0;34m)\u001b[0m\u001b[0;34m\u001b[0m\u001b[0;34m\u001b[0m\u001b[0m\n\u001b[0m\u001b[1;32m   3459\u001b[0m             \u001b[0;32mif\u001b[0m \u001b[0mis_integer\u001b[0m\u001b[0;34m(\u001b[0m\u001b[0mindexer\u001b[0m\u001b[0;34m)\u001b[0m\u001b[0;34m:\u001b[0m\u001b[0;34m\u001b[0m\u001b[0;34m\u001b[0m\u001b[0m\n\u001b[1;32m   3460\u001b[0m                 \u001b[0mindexer\u001b[0m \u001b[0;34m=\u001b[0m \u001b[0;34m[\u001b[0m\u001b[0mindexer\u001b[0m\u001b[0;34m]\u001b[0m\u001b[0;34m\u001b[0m\u001b[0;34m\u001b[0m\u001b[0m\n",
      "\u001b[0;32m~/opt/anaconda3/lib/python3.9/site-packages/pandas/core/indexes/base.py\u001b[0m in \u001b[0;36mget_loc\u001b[0;34m(self, key, method, tolerance)\u001b[0m\n\u001b[1;32m   3361\u001b[0m                 \u001b[0;32mreturn\u001b[0m \u001b[0mself\u001b[0m\u001b[0;34m.\u001b[0m\u001b[0m_engine\u001b[0m\u001b[0;34m.\u001b[0m\u001b[0mget_loc\u001b[0m\u001b[0;34m(\u001b[0m\u001b[0mcasted_key\u001b[0m\u001b[0;34m)\u001b[0m\u001b[0;34m\u001b[0m\u001b[0;34m\u001b[0m\u001b[0m\n\u001b[1;32m   3362\u001b[0m             \u001b[0;32mexcept\u001b[0m \u001b[0mKeyError\u001b[0m \u001b[0;32mas\u001b[0m \u001b[0merr\u001b[0m\u001b[0;34m:\u001b[0m\u001b[0;34m\u001b[0m\u001b[0;34m\u001b[0m\u001b[0m\n\u001b[0;32m-> 3363\u001b[0;31m                 \u001b[0;32mraise\u001b[0m \u001b[0mKeyError\u001b[0m\u001b[0;34m(\u001b[0m\u001b[0mkey\u001b[0m\u001b[0;34m)\u001b[0m \u001b[0;32mfrom\u001b[0m \u001b[0merr\u001b[0m\u001b[0;34m\u001b[0m\u001b[0;34m\u001b[0m\u001b[0m\n\u001b[0m\u001b[1;32m   3364\u001b[0m \u001b[0;34m\u001b[0m\u001b[0m\n\u001b[1;32m   3365\u001b[0m         \u001b[0;32mif\u001b[0m \u001b[0mis_scalar\u001b[0m\u001b[0;34m(\u001b[0m\u001b[0mkey\u001b[0m\u001b[0;34m)\u001b[0m \u001b[0;32mand\u001b[0m \u001b[0misna\u001b[0m\u001b[0;34m(\u001b[0m\u001b[0mkey\u001b[0m\u001b[0;34m)\u001b[0m \u001b[0;32mand\u001b[0m \u001b[0;32mnot\u001b[0m \u001b[0mself\u001b[0m\u001b[0;34m.\u001b[0m\u001b[0mhasnans\u001b[0m\u001b[0;34m:\u001b[0m\u001b[0;34m\u001b[0m\u001b[0;34m\u001b[0m\u001b[0m\n",
      "\u001b[0;31mKeyError\u001b[0m: 'LotArea'"
     ]
    }
   ],
   "source": [
    "plt.plot(np.log(y_pred), c='orange')\n",
    "plt.plot(np.log(y_test), alpha = .4, c='k')\n",
    "plt.plot(np.log(diff+np.abs(np.min(diff))), c='blue', alpha=.4)\n",
    "plt.show()\n",
    "ax = plt.hist(np.histogram(np.delete(y_test,259), bins=30)[0], histtype='step', density=True)\n",
    "bx = plt.hist(np.histogram(np.delete(y_pred,259), bins=30)[0], histtype='step',density=True)\n",
    "plt.show()"
   ]
  },
  {
   "cell_type": "code",
   "execution_count": null,
   "id": "9a5962d9",
   "metadata": {},
   "outputs": [],
   "source": [
    "df = pd.DataFrame(diff).dropna()\n",
    "model = t.interval(alpha = .95,\n",
    "    df=len(df) -1,\n",
    "    loc=np.mean(diff),\n",
    "    scale=st.sem(diff))\n",
    "print('95% confidence interval: ' + str(model[0]) + ' - ' + str(model[1]))\n",
    "arr = list()\n",
    "for i,x in enumerate(diff):\n",
    "    if(model[0] < x < model[1]):\n",
    "        arr.append(i)\n",
    "print(len(arr))\n",
    "print(len(diff))\n",
    "print(np.mean(diff))"
   ]
  },
  {
   "cell_type": "code",
   "execution_count": null,
   "id": "5cdac2c1",
   "metadata": {},
   "outputs": [],
   "source": []
  }
 ],
 "metadata": {
  "kernelspec": {
   "display_name": "Python 3 (ipykernel)",
   "language": "python",
   "name": "python3"
  },
  "language_info": {
   "codemirror_mode": {
    "name": "ipython",
    "version": 3
   },
   "file_extension": ".py",
   "mimetype": "text/x-python",
   "name": "python",
   "nbconvert_exporter": "python",
   "pygments_lexer": "ipython3",
   "version": "3.9.7"
  }
 },
 "nbformat": 4,
 "nbformat_minor": 5
}
