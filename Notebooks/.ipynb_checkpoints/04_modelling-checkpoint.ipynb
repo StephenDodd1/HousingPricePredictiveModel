{
 "cells": [
  {
   "cell_type": "markdown",
   "id": "f9681e3c",
   "metadata": {},
   "source": [
    "# House Prices Predictive Model"
   ]
  },
  {
   "cell_type": "markdown",
   "id": "7bb7adeb",
   "metadata": {},
   "source": [
    "# 4 - Modelling"
   ]
  },
  {
   "cell_type": "code",
   "execution_count": 5,
   "id": "8f4a5e6e",
   "metadata": {},
   "outputs": [],
   "source": [
    "import numpy as np\n",
    "from sklearn import svm\n",
    "from sklearn.metrics import r2_score"
   ]
  },
  {
   "cell_type": "code",
   "execution_count": 6,
   "id": "0e58535d",
   "metadata": {},
   "outputs": [],
   "source": [
    "scaled_train_X = np.genfromtxt('../data/scaled_train_X.csv', delimiter=\",\")\n",
    "scaled_test_X = np.genfromtxt('../data/scaled_test_X.csv', delimiter=\",\")\n",
    "y_train = np.genfromtxt('../data/train_y.csv', delimiter=\",\")\n",
    "y_test = np.genfromtxt('../data/test_y.csv', delimiter=\",\")"
   ]
  },
  {
   "cell_type": "markdown",
   "id": "26acfb49",
   "metadata": {},
   "source": [
    "## SVM"
   ]
  },
  {
   "cell_type": "code",
   "execution_count": 7,
   "id": "4872f250",
   "metadata": {},
   "outputs": [
    {
     "data": {
      "text/plain": [
       "SVC()"
      ]
     },
     "execution_count": 7,
     "metadata": {},
     "output_type": "execute_result"
    }
   ],
   "source": [
    "model = svm.SVC()\n",
    "model.fit(scaled_train_X, y_train)"
   ]
  },
  {
   "cell_type": "code",
   "execution_count": 8,
   "id": "a46cd890",
   "metadata": {},
   "outputs": [],
   "source": [
    "y_test_pred = model.predict(scaled_test_X)\n",
    "y_train_pred = model.predict(scaled_train_X)"
   ]
  },
  {
   "cell_type": "code",
   "execution_count": 9,
   "id": "a1d41ad3",
   "metadata": {},
   "outputs": [
    {
     "name": "stdout",
     "output_type": "stream",
     "text": [
      "Our training data scores as 0.6006294606232587\n"
     ]
    }
   ],
   "source": [
    "print('Our training data scores as',str(r2_score(y_train,y_train_pred)))"
   ]
  },
  {
   "cell_type": "code",
   "execution_count": 10,
   "id": "c4c5da42",
   "metadata": {},
   "outputs": [
    {
     "name": "stdout",
     "output_type": "stream",
     "text": [
      "Our training data scores as 0.07161644913112608\n"
     ]
    }
   ],
   "source": [
    "print('Our training data scores as',str(r2_score(y_test,y_test_pred)))"
   ]
  },
  {
   "cell_type": "markdown",
   "id": "b7817f2e",
   "metadata": {},
   "source": [
    "#### The model is not great, so I will now put a restriction on max_iter."
   ]
  },
  {
   "cell_type": "code",
   "execution_count": 11,
   "id": "0cb0589a",
   "metadata": {},
   "outputs": [
    {
     "name": "stderr",
     "output_type": "stream",
     "text": [
      "/Users/skdod/opt/anaconda3/lib/python3.9/site-packages/sklearn/svm/_base.py:255: ConvergenceWarning: Solver terminated early (max_iter=3).  Consider pre-processing your data with StandardScaler or MinMaxScaler.\n",
      "  warnings.warn('Solver terminated early (max_iter=%i).'\n"
     ]
    },
    {
     "data": {
      "text/plain": [
       "SVC(max_iter=3)"
      ]
     },
     "execution_count": 11,
     "metadata": {},
     "output_type": "execute_result"
    }
   ],
   "source": [
    "model = svm.SVC(max_iter=3)\n",
    "model.fit(scaled_train_X, y_train)"
   ]
  },
  {
   "cell_type": "code",
   "execution_count": 13,
   "id": "53f62fa1",
   "metadata": {},
   "outputs": [],
   "source": [
    "y_test_pred = model.predict(scaled_test_X)\n",
    "y_train_pred = model.predict(scaled_train_X)"
   ]
  },
  {
   "cell_type": "code",
   "execution_count": 14,
   "id": "8836c4c1",
   "metadata": {
    "scrolled": true
   },
   "outputs": [
    {
     "data": {
      "text/plain": [
       "0.7012803139064598"
      ]
     },
     "execution_count": 14,
     "metadata": {},
     "output_type": "execute_result"
    }
   ],
   "source": [
    "r2_score(y_train,y_train_pred)"
   ]
  },
  {
   "cell_type": "code",
   "execution_count": 15,
   "id": "8455ab76",
   "metadata": {
    "scrolled": true
   },
   "outputs": [
    {
     "data": {
      "text/plain": [
       "0.17023091294835757"
      ]
     },
     "execution_count": 15,
     "metadata": {},
     "output_type": "execute_result"
    }
   ],
   "source": [
    "r2_score(y_test,y_test_pred)"
   ]
  },
  {
   "cell_type": "code",
   "execution_count": 17,
   "id": "e7cabdcb",
   "metadata": {},
   "outputs": [
    {
     "name": "stderr",
     "output_type": "stream",
     "text": [
      "/Users/skdod/opt/anaconda3/lib/python3.9/site-packages/sklearn/svm/_base.py:255: ConvergenceWarning: Solver terminated early (max_iter=10).  Consider pre-processing your data with StandardScaler or MinMaxScaler.\n",
      "  warnings.warn('Solver terminated early (max_iter=%i).'\n"
     ]
    },
    {
     "name": "stdout",
     "output_type": "stream",
     "text": [
      "0.9818092422054886\n",
      "0.15045960932829838\n"
     ]
    }
   ],
   "source": [
    "model = svm.SVC(kernel='linear', max_iter=10)\n",
    "model.fit(scaled_train_X, y_train)\n",
    "\n",
    "y_test_pred = model.predict(scaled_test_X)\n",
    "y_train_pred = model.predict(scaled_train_X)\n",
    "\n",
    "print(r2_score(y_train,y_train_pred))\n",
    "\n",
    "print(r2_score(y_test,y_test_pred))"
   ]
  },
  {
   "cell_type": "code",
   "execution_count": null,
   "id": "9e5b6cb8",
   "metadata": {},
   "outputs": [],
   "source": [
    "print(X_test.iloc[259])\n",
    "diff = np.array(y_test_pred - np.array(y_test))\n",
    "print(np.mean(np.delete(diff, 259)))\n",
    "y_test=np.array(y_test)\n",
    "for idx, val in enumerate(y_test_pred):\n",
    "    print(np.abs(diff[idx]))\n",
    "    if diff[idx] != 0:\n",
    "        y_test_pred[idx] = y_test_pred[idx] + np.log(np.abs(diff[idx]))\n",
    "r2_score(y_test,y_test_pred)"
   ]
  },
  {
   "cell_type": "markdown",
   "id": "960fd9d9",
   "metadata": {},
   "source": [
    "#### Here I recognized that a few of my outliers are skewing my data heavily, and I believe that the primary problem is the neighborhood column. So I am redoing my model after removing that column."
   ]
  },
  {
   "cell_type": "code",
   "execution_count": null,
   "id": "4a898c66",
   "metadata": {},
   "outputs": [],
   "source": []
  }
 ],
 "metadata": {
  "kernelspec": {
   "display_name": "Python 3 (ipykernel)",
   "language": "python",
   "name": "python3"
  },
  "language_info": {
   "codemirror_mode": {
    "name": "ipython",
    "version": 3
   },
   "file_extension": ".py",
   "mimetype": "text/x-python",
   "name": "python",
   "nbconvert_exporter": "python",
   "pygments_lexer": "ipython3",
   "version": "3.9.7"
  }
 },
 "nbformat": 4,
 "nbformat_minor": 5
}
