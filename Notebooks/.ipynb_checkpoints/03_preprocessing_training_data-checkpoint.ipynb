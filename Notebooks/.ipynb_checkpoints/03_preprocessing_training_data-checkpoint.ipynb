{
 "cells": [
  {
   "cell_type": "markdown",
   "id": "56bb2d6e",
   "metadata": {},
   "source": [
    "# House Prices Predictive Model"
   ]
  },
  {
   "cell_type": "markdown",
   "id": "bb5d3b31",
   "metadata": {},
   "source": [
    "# 3 - Preprocessing Training Data"
   ]
  },
  {
   "cell_type": "code",
   "execution_count": 594,
   "id": "700299d2",
   "metadata": {},
   "outputs": [],
   "source": [
    "import pandas as pd\n",
    "import numpy as np\n",
    "from sklearn.preprocessing import StandardScaler\n",
    "from sklearn.model_selection import train_test_split\n",
    "\n",
    "from library.sb_utils import save_file"
   ]
  },
  {
   "cell_type": "markdown",
   "id": "4a23e990",
   "metadata": {},
   "source": [
    "## Read df from cleaned csv"
   ]
  },
  {
   "cell_type": "code",
   "execution_count": 595,
   "id": "efe26a71",
   "metadata": {},
   "outputs": [],
   "source": [
    "df = pd.read_csv('../data/house_refined_data_cleaned.csv')"
   ]
  },
  {
   "cell_type": "code",
   "execution_count": 596,
   "id": "53f02f7b",
   "metadata": {},
   "outputs": [
    {
     "data": {
      "text/html": [
       "<div>\n",
       "<style scoped>\n",
       "    .dataframe tbody tr th:only-of-type {\n",
       "        vertical-align: middle;\n",
       "    }\n",
       "\n",
       "    .dataframe tbody tr th {\n",
       "        vertical-align: top;\n",
       "    }\n",
       "\n",
       "    .dataframe thead th {\n",
       "        text-align: right;\n",
       "    }\n",
       "</style>\n",
       "<table border=\"1\" class=\"dataframe\">\n",
       "  <thead>\n",
       "    <tr style=\"text-align: right;\">\n",
       "      <th></th>\n",
       "      <th>Id</th>\n",
       "      <th>MSSubClass</th>\n",
       "      <th>MSZoning</th>\n",
       "      <th>Street</th>\n",
       "      <th>Alley</th>\n",
       "      <th>Neighborhood</th>\n",
       "      <th>Condition1</th>\n",
       "      <th>Condition2</th>\n",
       "      <th>HouseStyle</th>\n",
       "      <th>OverallQual</th>\n",
       "      <th>...</th>\n",
       "      <th>Heating</th>\n",
       "      <th>GrLivArea</th>\n",
       "      <th>KitchenQual</th>\n",
       "      <th>GarageType</th>\n",
       "      <th>GarageFinish</th>\n",
       "      <th>GarageCars</th>\n",
       "      <th>SalePrice</th>\n",
       "      <th>TotalSF</th>\n",
       "      <th>HasPool</th>\n",
       "      <th>YearBuilt</th>\n",
       "    </tr>\n",
       "  </thead>\n",
       "  <tbody>\n",
       "    <tr>\n",
       "      <th>0</th>\n",
       "      <td>1</td>\n",
       "      <td>60</td>\n",
       "      <td>RL</td>\n",
       "      <td>Pave</td>\n",
       "      <td>None</td>\n",
       "      <td>CollgCr</td>\n",
       "      <td>Norm</td>\n",
       "      <td>Norm</td>\n",
       "      <td>2Story</td>\n",
       "      <td>7</td>\n",
       "      <td>...</td>\n",
       "      <td>GasA</td>\n",
       "      <td>1710</td>\n",
       "      <td>Gd</td>\n",
       "      <td>Attchd</td>\n",
       "      <td>RFn</td>\n",
       "      <td>2</td>\n",
       "      <td>208500</td>\n",
       "      <td>2566</td>\n",
       "      <td>False</td>\n",
       "      <td>2003</td>\n",
       "    </tr>\n",
       "    <tr>\n",
       "      <th>1</th>\n",
       "      <td>2</td>\n",
       "      <td>20</td>\n",
       "      <td>RL</td>\n",
       "      <td>Pave</td>\n",
       "      <td>None</td>\n",
       "      <td>Veenker</td>\n",
       "      <td>Feedr</td>\n",
       "      <td>Norm</td>\n",
       "      <td>1Story</td>\n",
       "      <td>6</td>\n",
       "      <td>...</td>\n",
       "      <td>GasA</td>\n",
       "      <td>1262</td>\n",
       "      <td>TA</td>\n",
       "      <td>Attchd</td>\n",
       "      <td>RFn</td>\n",
       "      <td>2</td>\n",
       "      <td>181500</td>\n",
       "      <td>2524</td>\n",
       "      <td>False</td>\n",
       "      <td>1976</td>\n",
       "    </tr>\n",
       "    <tr>\n",
       "      <th>2</th>\n",
       "      <td>3</td>\n",
       "      <td>60</td>\n",
       "      <td>RL</td>\n",
       "      <td>Pave</td>\n",
       "      <td>None</td>\n",
       "      <td>CollgCr</td>\n",
       "      <td>Norm</td>\n",
       "      <td>Norm</td>\n",
       "      <td>2Story</td>\n",
       "      <td>7</td>\n",
       "      <td>...</td>\n",
       "      <td>GasA</td>\n",
       "      <td>1786</td>\n",
       "      <td>Gd</td>\n",
       "      <td>Attchd</td>\n",
       "      <td>RFn</td>\n",
       "      <td>2</td>\n",
       "      <td>223500</td>\n",
       "      <td>2706</td>\n",
       "      <td>False</td>\n",
       "      <td>2001</td>\n",
       "    </tr>\n",
       "    <tr>\n",
       "      <th>3</th>\n",
       "      <td>4</td>\n",
       "      <td>70</td>\n",
       "      <td>RL</td>\n",
       "      <td>Pave</td>\n",
       "      <td>None</td>\n",
       "      <td>Crawfor</td>\n",
       "      <td>Norm</td>\n",
       "      <td>Norm</td>\n",
       "      <td>2Story</td>\n",
       "      <td>7</td>\n",
       "      <td>...</td>\n",
       "      <td>GasA</td>\n",
       "      <td>1717</td>\n",
       "      <td>Gd</td>\n",
       "      <td>Detchd</td>\n",
       "      <td>Unf</td>\n",
       "      <td>3</td>\n",
       "      <td>140000</td>\n",
       "      <td>2473</td>\n",
       "      <td>False</td>\n",
       "      <td>1915</td>\n",
       "    </tr>\n",
       "    <tr>\n",
       "      <th>4</th>\n",
       "      <td>5</td>\n",
       "      <td>60</td>\n",
       "      <td>RL</td>\n",
       "      <td>Pave</td>\n",
       "      <td>None</td>\n",
       "      <td>NoRidge</td>\n",
       "      <td>Norm</td>\n",
       "      <td>Norm</td>\n",
       "      <td>2Story</td>\n",
       "      <td>8</td>\n",
       "      <td>...</td>\n",
       "      <td>GasA</td>\n",
       "      <td>2198</td>\n",
       "      <td>Gd</td>\n",
       "      <td>Attchd</td>\n",
       "      <td>RFn</td>\n",
       "      <td>3</td>\n",
       "      <td>250000</td>\n",
       "      <td>3343</td>\n",
       "      <td>False</td>\n",
       "      <td>2000</td>\n",
       "    </tr>\n",
       "  </tbody>\n",
       "</table>\n",
       "<p>5 rows × 24 columns</p>\n",
       "</div>"
      ],
      "text/plain": [
       "   Id  MSSubClass MSZoning Street Alley Neighborhood Condition1 Condition2  \\\n",
       "0   1          60       RL   Pave  None      CollgCr       Norm       Norm   \n",
       "1   2          20       RL   Pave  None      Veenker      Feedr       Norm   \n",
       "2   3          60       RL   Pave  None      CollgCr       Norm       Norm   \n",
       "3   4          70       RL   Pave  None      Crawfor       Norm       Norm   \n",
       "4   5          60       RL   Pave  None      NoRidge       Norm       Norm   \n",
       "\n",
       "  HouseStyle  OverallQual  ... Heating GrLivArea KitchenQual  GarageType  \\\n",
       "0     2Story            7  ...    GasA      1710          Gd      Attchd   \n",
       "1     1Story            6  ...    GasA      1262          TA      Attchd   \n",
       "2     2Story            7  ...    GasA      1786          Gd      Attchd   \n",
       "3     2Story            7  ...    GasA      1717          Gd      Detchd   \n",
       "4     2Story            8  ...    GasA      2198          Gd      Attchd   \n",
       "\n",
       "  GarageFinish  GarageCars SalePrice TotalSF HasPool  YearBuilt  \n",
       "0          RFn           2    208500    2566   False       2003  \n",
       "1          RFn           2    181500    2524   False       1976  \n",
       "2          RFn           2    223500    2706   False       2001  \n",
       "3          Unf           3    140000    2473   False       1915  \n",
       "4          RFn           3    250000    3343   False       2000  \n",
       "\n",
       "[5 rows x 24 columns]"
      ]
     },
     "execution_count": 596,
     "metadata": {},
     "output_type": "execute_result"
    }
   ],
   "source": [
    "df.head()"
   ]
  },
  {
   "cell_type": "code",
   "execution_count": 597,
   "id": "3766fb65",
   "metadata": {
    "scrolled": true
   },
   "outputs": [
    {
     "name": "stdout",
     "output_type": "stream",
     "text": [
      "<class 'pandas.core.frame.DataFrame'>\n",
      "RangeIndex: 1460 entries, 0 to 1459\n",
      "Data columns (total 24 columns):\n",
      " #   Column        Non-Null Count  Dtype \n",
      "---  ------        --------------  ----- \n",
      " 0   Id            1460 non-null   int64 \n",
      " 1   MSSubClass    1460 non-null   int8  \n",
      " 2   MSZoning      1460 non-null   object\n",
      " 3   Street        1460 non-null   object\n",
      " 4   Alley         1460 non-null   object\n",
      " 5   Neighborhood  1460 non-null   object\n",
      " 6   Condition1    1460 non-null   object\n",
      " 7   Condition2    1460 non-null   object\n",
      " 8   HouseStyle    1460 non-null   object\n",
      " 9   OverallQual   1460 non-null   int64 \n",
      " 10  MasVnrType    1460 non-null   object\n",
      " 11  ExterQual     1460 non-null   object\n",
      " 12  ExterCond     1460 non-null   object\n",
      " 13  TotalBsmtSF   1460 non-null   int64 \n",
      " 14  Heating       1460 non-null   object\n",
      " 15  GrLivArea     1460 non-null   int64 \n",
      " 16  KitchenQual   1460 non-null   object\n",
      " 17  GarageType    1460 non-null   object\n",
      " 18  GarageFinish  1460 non-null   object\n",
      " 19  GarageCars    1460 non-null   int64 \n",
      " 20  SalePrice     1460 non-null   int64 \n",
      " 21  TotalSF       1460 non-null   int64 \n",
      " 22  HasPool       1460 non-null   bool  \n",
      " 23  YearBuilt     1460 non-null   int64 \n",
      "dtypes: bool(1), int64(8), int8(1), object(14)\n",
      "memory usage: 253.9+ KB\n"
     ]
    }
   ],
   "source": [
    "df['MSSubClass'] = df['MSSubClass'].astype('category').cat.codes\n",
    "df.info()"
   ]
  },
  {
   "cell_type": "markdown",
   "id": "76d33a6b",
   "metadata": {},
   "source": [
    "### Get dummy variables"
   ]
  },
  {
   "cell_type": "code",
   "execution_count": 598,
   "id": "ad43313a",
   "metadata": {},
   "outputs": [],
   "source": [
    "dummies_df = pd.get_dummies(df['MSSubClass'], drop_first=True, prefix='Dummies')\n",
    "df = pd.concat([df, dummies_df], axis=1)"
   ]
  },
  {
   "cell_type": "code",
   "execution_count": 599,
   "id": "24af553a",
   "metadata": {},
   "outputs": [
    {
     "data": {
      "text/plain": [
       "Index(['Id', 'MSSubClass', 'MSZoning', 'Street', 'Alley', 'Neighborhood',\n",
       "       'Condition1', 'Condition2', 'HouseStyle', 'OverallQual', 'MasVnrType',\n",
       "       'ExterQual', 'ExterCond', 'TotalBsmtSF', 'Heating', 'GrLivArea',\n",
       "       'KitchenQual', 'GarageType', 'GarageFinish', 'GarageCars', 'SalePrice',\n",
       "       'TotalSF', 'HasPool', 'YearBuilt', 'Dummies_1', 'Dummies_2',\n",
       "       'Dummies_3', 'Dummies_4', 'Dummies_5', 'Dummies_6', 'Dummies_7',\n",
       "       'Dummies_8', 'Dummies_9', 'Dummies_10', 'Dummies_11', 'Dummies_12',\n",
       "       'Dummies_13', 'Dummies_14'],\n",
       "      dtype='object')"
      ]
     },
     "execution_count": 599,
     "metadata": {},
     "output_type": "execute_result"
    }
   ],
   "source": [
    "df.columns"
   ]
  },
  {
   "cell_type": "code",
   "execution_count": 600,
   "id": "208e5fb6",
   "metadata": {
    "scrolled": true
   },
   "outputs": [
    {
     "data": {
      "text/plain": [
       "OverallQual          int64\n",
       "TotalBsmtSF          int64\n",
       "GrLivArea            int64\n",
       "GarageCars           int64\n",
       "SalePrice            int64\n",
       "                     ...  \n",
       "GarageType_Detchd    uint8\n",
       "GarageType_None      uint8\n",
       "GarageFinish_None    uint8\n",
       "GarageFinish_RFn     uint8\n",
       "GarageFinish_Unf     uint8\n",
       "Length: 102, dtype: object"
      ]
     },
     "execution_count": 600,
     "metadata": {},
     "output_type": "execute_result"
    }
   ],
   "source": [
    "df.HasPool = df.HasPool.replace(to_replace=[True, False], value=[1,0])\n",
    "df.YearBuilt = df.YearBuilt - min(df.YearBuilt)\n",
    "df.GrLivArea = df.GrLivArea - min(df.GrLivArea)\n",
    "df.TotalSF = df.TotalSF - min(df.TotalSF)\n",
    "df = pd.get_dummies(df, drop_first=True)\n",
    "df.drop(columns=['Id','MSSubClass'], inplace=True)\n",
    "df.dtypes"
   ]
  },
  {
   "cell_type": "code",
   "execution_count": 601,
   "id": "2dcd5975",
   "metadata": {},
   "outputs": [
    {
     "data": {
      "text/plain": [
       "Index(['OverallQual', 'TotalBsmtSF', 'GrLivArea', 'GarageCars', 'SalePrice',\n",
       "       'TotalSF', 'HasPool', 'YearBuilt', 'Dummies_1', 'Dummies_2',\n",
       "       ...\n",
       "       'KitchenQual_TA', 'GarageType_Attchd', 'GarageType_Basment',\n",
       "       'GarageType_BuiltIn', 'GarageType_CarPort', 'GarageType_Detchd',\n",
       "       'GarageType_None', 'GarageFinish_None', 'GarageFinish_RFn',\n",
       "       'GarageFinish_Unf'],\n",
       "      dtype='object', length=102)"
      ]
     },
     "execution_count": 601,
     "metadata": {},
     "output_type": "execute_result"
    }
   ],
   "source": [
    "df.columns"
   ]
  },
  {
   "cell_type": "markdown",
   "id": "61bf56a1",
   "metadata": {},
   "source": [
    "## Train Test Split"
   ]
  },
  {
   "cell_type": "code",
   "execution_count": 602,
   "id": "72fcce78",
   "metadata": {},
   "outputs": [],
   "source": [
    "X_train, X_test, y_train, y_test = train_test_split(df.drop(columns='SalePrice',axis=1),\n",
    "df['SalePrice'], test_size=0.2, random_state=0)"
   ]
  },
  {
   "cell_type": "markdown",
   "id": "d0fe6751",
   "metadata": {},
   "source": [
    "## Scale Data"
   ]
  },
  {
   "cell_type": "code",
   "execution_count": 603,
   "id": "a4200ae3",
   "metadata": {},
   "outputs": [],
   "source": [
    "scaler = StandardScaler()\n",
    "scaler.fit(X_train)\n",
    "scaled_train_X = scaler.transform(X_train)\n",
    "scaled_test_X = scaler.transform(X_test)"
   ]
  },
  {
   "cell_type": "code",
   "execution_count": 604,
   "id": "a5410716",
   "metadata": {
    "scrolled": false
   },
   "outputs": [
    {
     "name": "stdout",
     "output_type": "stream",
     "text": [
      "[[ 2.13150648  1.86572881  0.60188649 ... -0.22858752 -0.63681669\n",
      "   1.18044171]\n",
      " [-0.79485211 -0.38726187 -1.21671763 ... -0.22858752 -0.63681669\n",
      "   1.18044171]\n",
      " [-0.79485211 -0.43096212 -1.08041967 ... -0.22858752 -0.63681669\n",
      "   1.18044171]\n",
      " ...\n",
      " [-0.06326246 -2.55770764  0.7459729  ... -0.22858752 -0.63681669\n",
      "   1.18044171]\n",
      " [ 0.66832719  0.77807813  0.0742187  ... -0.22858752 -0.63681669\n",
      "  -0.84714052]\n",
      " [ 0.66832719  0.34350342  0.62330474 ... -0.22858752 -0.63681669\n",
      "  -0.84714052]]\n"
     ]
    }
   ],
   "source": [
    "print(scaled_train_X)"
   ]
  },
  {
   "cell_type": "markdown",
   "id": "82c59341",
   "metadata": {},
   "source": [
    "## Save pre-processed data"
   ]
  },
  {
   "cell_type": "code",
   "execution_count": 606,
   "id": "c62169dd",
   "metadata": {},
   "outputs": [],
   "source": [
    "np.savetxt('../data/scaled_train_X.csv', scaled_train_X, delimiter=\",\")\n",
    "np.savetxt('../data/scaled_test_X.csv', scaled_test_X, delimiter=\",\")\n",
    "np.savetxt('../data/train_y.csv', y_train, delimiter=\",\")\n",
    "np.savetxt('../data/test_y.csv', y_test, delimiter=\",\")"
   ]
  }
 ],
 "metadata": {
  "kernelspec": {
   "display_name": "Python 3 (ipykernel)",
   "language": "python",
   "name": "python3"
  },
  "language_info": {
   "codemirror_mode": {
    "name": "ipython",
    "version": 3
   },
   "file_extension": ".py",
   "mimetype": "text/x-python",
   "name": "python",
   "nbconvert_exporter": "python",
   "pygments_lexer": "ipython3",
   "version": "3.9.7"
  }
 },
 "nbformat": 4,
 "nbformat_minor": 5
}
